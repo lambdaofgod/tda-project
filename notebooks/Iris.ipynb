{
 "cells": [
  {
   "cell_type": "code",
   "execution_count": 1,
   "metadata": {
    "collapsed": false
   },
   "outputs": [
    {
     "data": {
      "text/plain": [
       "\u001b[32mimport \u001b[39m\u001b[36m$file.$               \n",
       "\n",
       "\u001b[39m"
      ]
     },
     "execution_count": 1,
     "metadata": {},
     "output_type": "execute_result"
    }
   ],
   "source": [
    "import $file.scripts.importer\n",
    "\n",
    "importer.loadProjectDependencies"
   ]
  },
  {
   "cell_type": "code",
   "execution_count": 2,
   "metadata": {
    "collapsed": false
   },
   "outputs": [
    {
     "data": {
      "text/plain": [
       "\u001b[32mimport \u001b[39m\u001b[36mscala.collection.JavaConverters._\n",
       "\u001b[39m\n",
       "\u001b[32mimport \u001b[39m\u001b[36mscala.collection.JavaConversions._\n",
       "\u001b[39m\n",
       "\u001b[32mimport \u001b[39m\u001b[36medu.stanford.math.plex4._\n",
       "\u001b[39m\n",
       "\u001b[32mimport \u001b[39m\u001b[36medu.stanford.math.plex4.api._\n",
       "\u001b[39m\n",
       "\u001b[32mimport \u001b[39m\u001b[36medu.stanford.math.plex4.visualization._\n",
       "\u001b[39m\n",
       "\u001b[32mimport \u001b[39m\u001b[36medu.stanford.math.plex4.homology.barcodes._\n",
       "\u001b[39m\n",
       "\u001b[32mimport \u001b[39m\u001b[36medu.stanford.math.plex4.streams.impl.LazyWitnessStream\n",
       "\n",
       "\u001b[39m\n",
       "\u001b[32mimport \u001b[39m\u001b[36mbreeze.numerics._\n",
       "\u001b[39m\n",
       "\u001b[32mimport \u001b[39m\u001b[36mbreeze.linalg._\n",
       "\u001b[39m\n",
       "\u001b[32mimport \u001b[39m\u001b[36mbreeze.math._\n",
       "\u001b[39m\n",
       "\u001b[32mimport \u001b[39m\u001b[36mbreeze.stats.{mean, stddev}\n",
       "\u001b[39m\n",
       "\u001b[32mimport \u001b[39m\u001b[36mbreeze.util.JavaArrayOps\n",
       "\n",
       "\u001b[39m\n",
       "\u001b[32mimport \u001b[39m\u001b[36mtda.persistence.Math\n",
       "\n",
       "\u001b[39m\n",
       "defined \u001b[32mfunction\u001b[39m \u001b[36mmapEntryAsTuple\u001b[39m\n",
       "defined \u001b[32mfunction\u001b[39m \u001b[36mdrawBarcodes\u001b[39m"
      ]
     },
     "execution_count": 2,
     "metadata": {},
     "output_type": "execute_result"
    }
   ],
   "source": [
    "import scala.collection.JavaConverters._\n",
    "import scala.collection.JavaConversions._\n",
    "import edu.stanford.math.plex4._\n",
    "import edu.stanford.math.plex4.api._\n",
    "import edu.stanford.math.plex4.visualization._\n",
    "import edu.stanford.math.plex4.homology.barcodes._\n",
    "import edu.stanford.math.plex4.streams.impl.LazyWitnessStream\n",
    "\n",
    "import breeze.numerics._\n",
    "import breeze.linalg._\n",
    "import breeze.math._\n",
    "import breeze.stats.{mean, stddev}\n",
    "import breeze.util.JavaArrayOps\n",
    "\n",
    "import tda.persistence.Math\n",
    "\n",
    "implicit def mapEntryAsTuple[T,S](me: java.util.Map.Entry[T,S]): (T,S) = {\n",
    "  (me.getKey(), me.getValue)\n",
    "}\n",
    "\n",
    "def drawBarcodes(images: Seq[java.awt.image.BufferedImage]) = {\n",
    "  images foreach publish.png \n",
    "}"
   ]
  },
  {
   "cell_type": "markdown",
   "metadata": {},
   "source": [
    "## Iris homology \n"
   ]
  },
  {
   "cell_type": "code",
   "execution_count": 3,
   "metadata": {
    "collapsed": false
   },
   "outputs": [
    {
     "name": "stderr",
     "output_type": "stream",
     "text": [
      "Feb 05, 2017 11:24:30 PM com.github.fommil.jni.JniLoader liberalLoad\n",
      "INFO: successfully loaded /tmp/jniloader5291436655095389894netlib-native_system-linux-x86_64.so\n"
     ]
    },
    {
     "data": {
      "text/plain": [
       "\u001b[36mirisAllData\u001b[39m: \u001b[32mDenseMatrix\u001b[39m[\u001b[32mDouble\u001b[39m] = \u001b[32m<lazy>\u001b[39m\n",
       "\u001b[36mirisData\u001b[39m: \u001b[32mDenseMatrix\u001b[39m[\u001b[32mDouble\u001b[39m] = \u001b[32m<lazy>\u001b[39m\n",
       "\u001b[36mirisTarget\u001b[39m: \u001b[32mDenseVector\u001b[39m[\u001b[32mInt\u001b[39m] = \u001b[32m<lazy>\u001b[39m\n",
       "\u001b[36mirisDataNormalized\u001b[39m: \u001b[32mDenseMatrix\u001b[39m[\u001b[32mDouble\u001b[39m] = \u001b[32m<lazy>\u001b[39m\n",
       "\u001b[36mirisDist\u001b[39m: \u001b[32mDenseMatrix\u001b[39m[\u001b[32mDouble\u001b[39m] = \u001b[32m<lazy>\u001b[39m\n",
       "\u001b[36mirisArray\u001b[39m: \u001b[32mArray\u001b[39m[\u001b[32mArray\u001b[39m[\u001b[32mDouble\u001b[39m]] = \u001b[32m<lazy>\u001b[39m\n",
       "\u001b[36mirisMeanDist\u001b[39m: \u001b[32mDouble\u001b[39m = \u001b[32m9.08494133333336\u001b[39m\n",
       "\u001b[36mirisMinDist\u001b[39m: \u001b[32mDouble\u001b[39m = \u001b[32m0.009999999999990905\u001b[39m"
      ]
     },
     "execution_count": 3,
     "metadata": {},
     "output_type": "execute_result"
    }
   ],
   "source": [
    "lazy val irisAllData = csvread(importer.loadData(\"iris.csv\"))\n",
    "\n",
    "lazy val irisData = irisAllData(::, Range(0,4))\n",
    "lazy val irisTarget = irisAllData(::, 4).map(_.toInt)\n",
    "lazy val irisDataNormalized = irisAllData\n",
    "\n",
    "lazy val irisDist = Math.dist(irisData, irisData)\n",
    "lazy val irisArray = JavaArrayOps.dmDToArray2(irisData)\n",
    "\n",
    "val irisMeanDist = mean(irisDist)\n",
    "val irisMinDist = irisDist.toDenseVector.toArray.filter(_ > 0).min"
   ]
  },
  {
   "cell_type": "code",
   "execution_count": 4,
   "metadata": {
    "collapsed": false
   },
   "outputs": [
    {
     "data": {
      "text/plain": [
       "\u001b[36mpersistence\u001b[39m: \u001b[32mhomology\u001b[39m.\u001b[32minterfaces\u001b[39m.\u001b[32mAbstractPersistenceAlgorithm\u001b[39m[\u001b[32mhomology\u001b[39m.\u001b[32mchain_basis\u001b[39m.\u001b[32mSimplex\u001b[39m] = \u001b[32m<lazy>\u001b[39m\n",
       "\u001b[36mmaxDimension\u001b[39m: \u001b[32mInt\u001b[39m = \u001b[32m<lazy>\u001b[39m\n",
       "\u001b[36mmaxFiltrationValue\u001b[39m: \u001b[32mDouble\u001b[39m = \u001b[32m<lazy>\u001b[39m\n",
       "\u001b[36mnumDivisions\u001b[39m: \u001b[32mInt\u001b[39m = \u001b[32m<lazy>\u001b[39m\n",
       "\u001b[36mirisStream\u001b[39m: \u001b[32mstreams\u001b[39m.\u001b[32mimpl\u001b[39m.\u001b[32mVietorisRipsStream\u001b[39m[\u001b[32mArray\u001b[39m[\u001b[32mDouble\u001b[39m]] = \u001b[32m<lazy>\u001b[39m"
      ]
     },
     "execution_count": 4,
     "metadata": {},
     "output_type": "execute_result"
    }
   ],
   "source": [
    "lazy val persistence = Plex4.getModularSimplicialAlgorithm(4, 2)\n",
    "lazy val (maxDimension, maxFiltrationValue, numDivisions) = (4, 0.75, 25)\n",
    "lazy val irisStream = Plex4.createVietorisRipsStream(irisArray, maxDimension, maxFiltrationValue, numDivisions)"
   ]
  },
  {
   "cell_type": "code",
   "execution_count": 5,
   "metadata": {
    "collapsed": false
   },
   "outputs": [
    {
     "name": "stdout",
     "output_type": "stream",
     "text": [
      "Iris Stream for\n",
      "maxFiltrationValue = 0.75\n",
      "has 289175 simplices\n"
     ]
    }
   ],
   "source": [
    "println(Seq(\n",
    "  \"Iris Stream for\",\n",
    "  s\"maxFiltrationValue = ${maxFiltrationValue}\",\n",
    "  s\"has ${irisStream.getSize()} simplices\").mkString(\"\\n\"))"
   ]
  },
  {
   "cell_type": "code",
   "execution_count": 5,
   "metadata": {
    "collapsed": false
   },
   "outputs": [
    {
     "name": "stderr",
     "output_type": "stream",
     "text": [
      "cmd5.sc:1: not found: value barcodeImages\n",
      "lazy val imgs = barcodeImages(\n",
      "                ^cmd5.sc:2: not found: value intervals\n",
      "  intervals,\n",
      "  ^cmd5.sc:5: not found: value defaultPersistenceAlgorithm\n",
      "  defaultPersistenceAlgorithm(maxDimension))\n",
      "  ^"
     ]
    },
    {
     "ename": "",
     "evalue": "",
     "output_type": "error",
     "traceback": [
      "Compilation Failed"
     ]
    }
   ],
   "source": [
    "lazy val imgs = barcodeImages(\n",
    "  intervals,\n",
    "  maxDimension,\n",
    "  maxFiltrationValue,\n",
    "  defaultPersistenceAlgorithm(maxDimension))"
   ]
  },
  {
   "cell_type": "code",
   "execution_count": 5,
   "metadata": {
    "collapsed": false
   },
   "outputs": [
    {
     "name": "stderr",
     "output_type": "stream",
     "text": [
      "cmd5.sc:1: not found: value imgs\n",
      "val res5 = drawBarcodes(imgs)\n",
      "                        ^"
     ]
    },
    {
     "ename": "",
     "evalue": "",
     "output_type": "error",
     "traceback": [
      "Compilation Failed"
     ]
    }
   ],
   "source": [
    "drawBarcodes(imgs)"
   ]
  },
  {
   "cell_type": "markdown",
   "metadata": {},
   "source": [
    "## Iris homology with lazy witness stream"
   ]
  },
  {
   "cell_type": "code",
   "execution_count": 6,
   "metadata": {
    "collapsed": false
   },
   "outputs": [
    {
     "data": {
      "text/plain": [
       "\u001b[36mnoLandmarks\u001b[39m: \u001b[32mInt\u001b[39m = \u001b[32m50\u001b[39m\n",
       "\u001b[36mlandmarkSelector\u001b[39m: \u001b[32mmetric\u001b[39m.\u001b[32mlandmark\u001b[39m.\u001b[32mMaxMinLandmarkSelector\u001b[39m[\u001b[32mArray\u001b[39m[\u001b[32mDouble\u001b[39m]] = edu.stanford.math.plex4.metric.landmark.MaxMinLandmarkSelector@709fc086\n",
       "\u001b[36mres5_2\u001b[39m: \u001b[32mDouble\u001b[39m = \u001b[32m0.4472135954999582\u001b[39m\n",
       "\u001b[36mlazyMaxFiltrationValue\u001b[39m: \u001b[32mDouble\u001b[39m = \u001b[32m<lazy>\u001b[39m"
      ]
     },
     "execution_count": 6,
     "metadata": {},
     "output_type": "execute_result"
    }
   ],
   "source": [
    "val noLandmarks = 50 \n",
    "val landmarkSelector = Plex4.createMaxMinSelector(\n",
    "  irisArray,\n",
    "  noLandmarks)\n",
    "\n",
    "landmarkSelector.getMaxDistanceFromPointsToLandmarks\n",
    "\n",
    "lazy val lazyMaxFiltrationValue = 3 * landmarkSelector.getMaxDistanceFromPointsToLandmarks"
   ]
  },
  {
   "cell_type": "code",
   "execution_count": 7,
   "metadata": {
    "collapsed": false
   },
   "outputs": [
    {
     "data": {
      "text/plain": [
       "\u001b[36mlazyWitnesStream\u001b[39m: \u001b[32mLazyWitnessStream\u001b[39m[\u001b[32mArray\u001b[39m[\u001b[32mDouble\u001b[39m]] = edu.stanford.math.plex4.streams.impl.LazyWitnessStream@68036a81"
      ]
     },
     "execution_count": 7,
     "metadata": {},
     "output_type": "execute_result"
    }
   ],
   "source": [
    "val lazyWitnesStream = new LazyWitnessStream(\n",
    "  landmarkSelector.getUnderlyingMetricSpace(),\n",
    "  landmarkSelector,\n",
    "  maxDimension,\n",
    "  maxFiltrationValue,\n",
    "  1,\n",
    "  numDivisions)\n",
    "\n",
    "lazyWitnesStream.finalizeStream()"
   ]
  },
  {
   "cell_type": "code",
   "execution_count": 8,
   "metadata": {
    "collapsed": false
   },
   "outputs": [
    {
     "name": "stdout",
     "output_type": "stream",
     "text": [
      "Iris Lazy Witness Stream for\n",
      "maxFiltrationValue = 1.3416407864998745\n",
      "has 50257 simplices\n"
     ]
    }
   ],
   "source": [
    "println(Seq(\n",
    "  \"Iris Lazy Witness Stream for\",\n",
    "  s\"maxFiltrationValue = ${lazyMaxFiltrationValue}\",\n",
    "  s\"has ${lazyWitnesStream.getSize()} simplices\").mkString(\"\\n\"))"
   ]
  },
  {
   "cell_type": "code",
   "execution_count": 8,
   "metadata": {
    "collapsed": false
   },
   "outputs": [
    {
     "name": "stderr",
     "output_type": "stream",
     "text": [
      "cmd8.sc:1: not found: value barcodeImages\n",
      "lazy val lazyImgs = barcodeImages(\n",
      "                    ^cmd8.sc:2: not found: value lazyWitnessStream\n",
      "  lazyWitnessStream,\n",
      "  ^cmd8.sc:5: not found: value defaultPersistenceAlgorithm\n",
      "  defaultPersistenceAlgorithm(maxDimension))\n",
      "  ^"
     ]
    },
    {
     "ename": "",
     "evalue": "",
     "output_type": "error",
     "traceback": [
      "Compilation Failed"
     ]
    }
   ],
   "source": [
    "lazy val lazyImgs = barcodeImages(\n",
    "  lazyWitnessStream,\n",
    "  maxDimension,\n",
    "  maxFiltrationValue,\n",
    "  defaultPersistenceAlgorithm(maxDimension))"
   ]
  },
  {
   "cell_type": "code",
   "execution_count": 8,
   "metadata": {
    "collapsed": false
   },
   "outputs": [
    {
     "name": "stderr",
     "output_type": "stream",
     "text": [
      "cmd8.sc:1: not found: value lazyImgs\n",
      "val res8 = drawBarcodes(lazyImgs)\n",
      "                        ^"
     ]
    },
    {
     "ename": "",
     "evalue": "",
     "output_type": "error",
     "traceback": [
      "Compilation Failed"
     ]
    }
   ],
   "source": [
    "drawBarcodes(lazyImgs)"
   ]
  },
  {
   "cell_type": "code",
   "execution_count": 8,
   "metadata": {
    "collapsed": false
   },
   "outputs": [
    {
     "name": "stderr",
     "output_type": "stream",
     "text": [
      "cmd8.sc:1: not found: value lazyIntervals\n",
      "val res8 = lazyIntervals\n",
      "           ^"
     ]
    },
    {
     "ename": "",
     "evalue": "",
     "output_type": "error",
     "traceback": [
      "Compilation Failed"
     ]
    }
   ],
   "source": [
    "lazyIntervals"
   ]
  }
 ],
 "metadata": {
  "anaconda-cloud": {},
  "hide_input": false,
  "kernelspec": {
   "display_name": "Scala",
   "language": "scala",
   "name": "scala"
  },
  "language_info": {
   "codemirror_mode": "text/x-scala",
   "file_extension": ".scala",
   "mimetype": "text/x-scala",
   "name": "scala211",
   "nbconvert_exporter": "scala",
   "pygments_lexer": "scala",
   "version": "2.11.8"
  }
 },
 "nbformat": 4,
 "nbformat_minor": 0
}
