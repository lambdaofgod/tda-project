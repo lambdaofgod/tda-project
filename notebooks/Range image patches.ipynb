{
 "cells": [
  {
   "cell_type": "code",
   "execution_count": 1,
   "metadata": {
    "collapsed": false
   },
   "outputs": [
    {
     "data": {
      "text/plain": [
       "\u001b[32mimport \u001b[39m\u001b[36m$file.$               \n",
       "\n",
       "\u001b[39m"
      ]
     },
     "execution_count": 1,
     "metadata": {},
     "output_type": "execute_result"
    }
   ],
   "source": [
    "import $file.scripts.importer\n",
    "\n",
    "importer.loadProjectDependencies"
   ]
  },
  {
   "cell_type": "code",
   "execution_count": 2,
   "metadata": {
    "collapsed": false
   },
   "outputs": [
    {
     "data": {
      "text/plain": [
       "\u001b[32mimport \u001b[39m\u001b[36msmile.read\n",
       "\u001b[39m\n",
       "\u001b[32mimport \u001b[39m\u001b[36msmile.plot._\n",
       "\u001b[39m\n",
       "\u001b[32mimport \u001b[39m\u001b[36msmile.util._\n",
       "\u001b[39m\n",
       "\u001b[32mimport \u001b[39m\u001b[36msmile.math._, Math._\n",
       "\n",
       "\u001b[39m\n",
       "\u001b[32mimport \u001b[39m\u001b[36msmile.data._\n",
       "\u001b[39m\n",
       "\u001b[32mimport \u001b[39m\u001b[36msmile.interpolation._\n",
       "\u001b[39m\n",
       "\u001b[32mimport \u001b[39m\u001b[36msmile.validation._\n",
       "\u001b[39m\n",
       "\u001b[32mimport \u001b[39m\u001b[36msmile.manifold._\n",
       "\u001b[39m\n",
       "\u001b[32mimport \u001b[39m\u001b[36msmile.mds._\n",
       "\u001b[39m\n",
       "\u001b[32mimport \u001b[39m\u001b[36msmile.projection._\n",
       "\n",
       "\u001b[39m\n",
       "\u001b[32mimport \u001b[39m\u001b[36mscala.collection.JavaConverters._\n",
       "\u001b[39m\n",
       "\u001b[32mimport \u001b[39m\u001b[36mscala.collection.JavaConversions._\n",
       "\u001b[39m\n",
       "\u001b[32mimport \u001b[39m\u001b[36medu.stanford.math.plex4._\n",
       "\u001b[39m\n",
       "\u001b[32mimport \u001b[39m\u001b[36medu.stanford.math.plex4.api._\n",
       "\u001b[39m\n",
       "\u001b[32mimport \u001b[39m\u001b[36medu.stanford.math.plex4.visualization._\n",
       "\u001b[39m\n",
       "\u001b[32mimport \u001b[39m\u001b[36medu.stanford.math.plex4.homology.barcodes._\n",
       "\u001b[39m\n",
       "\u001b[32mimport \u001b[39m\u001b[36medu.stanford.math.plex4.streams.impl.LazyWitnessStream\n",
       "\n",
       "\u001b[39m\n",
       "\u001b[32mimport \u001b[39m\u001b[36mbreeze.numerics._\n",
       "\u001b[39m\n",
       "\u001b[32mimport \u001b[39m\u001b[36mbreeze.linalg._\n",
       "\u001b[39m\n",
       "\u001b[32mimport \u001b[39m\u001b[36mbreeze.math._\n",
       "\u001b[39m\n",
       "\u001b[32mimport \u001b[39m\u001b[36mbreeze.stats.{mean, stddev}\n",
       "\u001b[39m\n",
       "\u001b[32mimport \u001b[39m\u001b[36mbreeze.util.JavaArrayOps\n",
       "\n",
       "\u001b[39m\n",
       "\u001b[32mimport \u001b[39m\u001b[36mtda.persistence.Analysis._\n",
       "\u001b[39m\n",
       "\u001b[32mimport \u001b[39m\u001b[36mtda.persistence.Math._\n",
       "\n",
       "\u001b[39m\n",
       "defined \u001b[32mfunction\u001b[39m \u001b[36mdrawBarcodes\u001b[39m\n",
       "\u001b[36mmaxDimension\u001b[39m: \u001b[32mInt\u001b[39m = \u001b[32m3\u001b[39m\n",
       "\u001b[36mpersistence\u001b[39m: \u001b[32medu\u001b[39m.\u001b[32mstanford\u001b[39m.\u001b[32mmath\u001b[39m.\u001b[32mplex4\u001b[39m.\u001b[32mhomology\u001b[39m.\u001b[32minterfaces\u001b[39m.\u001b[32mAbstractPersistenceAlgorithm\u001b[39m[\u001b[32medu\u001b[39m.\u001b[32mstanford\u001b[39m.\u001b[32mmath\u001b[39m.\u001b[32mplex4\u001b[39m.\u001b[32mhomology\u001b[39m.\u001b[32mchain_basis\u001b[39m.\u001b[32mSimplex\u001b[39m] = \u001b[32m<lazy>\u001b[39m\n",
       "defined \u001b[32mfunction\u001b[39m \u001b[36mlazyStreamIntervalsWithImages\u001b[39m"
      ]
     },
     "execution_count": 2,
     "metadata": {},
     "output_type": "execute_result"
    }
   ],
   "source": [
    "import smile.read\n",
    "import smile.plot._\n",
    "import smile.util._\n",
    "import smile.math._, Math._\n",
    "\n",
    "import smile.data._\n",
    "import smile.interpolation._\n",
    "import smile.validation._\n",
    "import smile.manifold._\n",
    "import smile.mds._\n",
    "import smile.projection._\n",
    "\n",
    "import scala.collection.JavaConverters._\n",
    "import scala.collection.JavaConversions._\n",
    "import edu.stanford.math.plex4._\n",
    "import edu.stanford.math.plex4.api._\n",
    "import edu.stanford.math.plex4.visualization._\n",
    "import edu.stanford.math.plex4.homology.barcodes._\n",
    "import edu.stanford.math.plex4.streams.impl.LazyWitnessStream\n",
    "\n",
    "import breeze.numerics._\n",
    "import breeze.linalg._\n",
    "import breeze.math._\n",
    "import breeze.stats.{mean, stddev}\n",
    "import breeze.util.JavaArrayOps\n",
    "\n",
    "import tda.persistence.Analysis._\n",
    "import tda.persistence.Math._\n",
    "\n",
    "def drawBarcodes(images: Seq[java.awt.image.BufferedImage]) = {\n",
    "  images foreach publish.png \n",
    "}\n",
    "\n",
    "val maxDimension = 3\n",
    "lazy val persistence = Plex4.getModularSimplicialAlgorithm(maxDimension, 2)\n",
    "\n",
    "def lazyStreamIntervalsWithImages(data: Array[Array[Double]], scale: Double) = {\n",
    "  val noLandmarkPoints = 50\n",
    "  val numDivisions = 100 \n",
    "\n",
    "  lazy val landmarkSelector = Plex4\n",
    "    .createMaxMinSelector(data, noLandmarkPoints)\n",
    "\n",
    "  lazy val landmarkIndices = landmarkSelector.getLandmarkPoints()\n",
    "\n",
    "  val D = landmarkSelector.getMaxDistanceFromPointsToLandmarks \n",
    "\n",
    "  lazy val filtrationValue = scale * D  \n",
    "\n",
    "  lazy val patchesLandmarksStream = new LazyWitnessStream(\n",
    "    landmarkSelector.getUnderlyingMetricSpace,\n",
    "    landmarkSelector,\n",
    "    maxDimension,\n",
    "    filtrationValue,\n",
    "    1,\n",
    "    numDivisions)\n",
    "\n",
    "  patchesLandmarksStream.finalizeStream()\n",
    "  \n",
    "  (\n",
    "    patchesLandmarksStream.getSize,\n",
    "    filtrationValue,\n",
    "    intervalsWithImages(\n",
    "      patchesLandmarksStream,\n",
    "      maxDimension,\n",
    "      filtrationValue,\n",
    "      persistence)  \n",
    "  )\n",
    "}"
   ]
  },
  {
   "cell_type": "markdown",
   "metadata": {},
   "source": [
    "# Range image patches\n",
    "\n",
    "data comes from [On the non-linear statistics of range image patches](https://pdfs.semanticscholar.org/dde7/e2562efd53a7137535aec9389d252bafeb25.pdf)\n",
    "\n",
    "It is also available as "
   ]
  },
  {
   "cell_type": "code",
   "execution_count": 3,
   "metadata": {
    "collapsed": false
   },
   "outputs": [
    {
     "data": {
      "text/plain": [
       "\u001b[36mdata\u001b[39m: \u001b[32mArray\u001b[39m[\u001b[32mArray\u001b[39m[\u001b[32mDouble\u001b[39m]] = \u001b[33mArray\u001b[39m(\n",
       "  \u001b[33mArray\u001b[39m(\n",
       "    \u001b[32m0.2803111772746603\u001b[39m,\n",
       "    \u001b[32m0.1246321673633129\u001b[39m,\n",
       "    \u001b[32m-0.01992691326865255\u001b[39m,\n",
       "    \u001b[32m-0.1400221494859777\u001b[39m,\n",
       "    \u001b[32m-0.28013325840619036\u001b[39m,\n",
       "    \u001b[32m0.27586320556290755\u001b[39m,\n",
       "    \u001b[32m0.14242405421032403\u001b[39m,\n",
       "    \u001b[32m-0.015478941556899767\u001b[39m,\n",
       "    \u001b[32m-0.15559005047711244\u001b[39m,\n",
       "    \u001b[32m-0.2756852866944376\u001b[39m,\n",
       "\u001b[33m...\u001b[39m"
      ]
     },
     "execution_count": 3,
     "metadata": {},
     "output_type": "execute_result"
    }
   ],
   "source": [
    "val data = read.csv(\"../data/pointsRange.csv\").unzip"
   ]
  },
  {
   "cell_type": "code",
   "execution_count": 4,
   "metadata": {
    "collapsed": false
   },
   "outputs": [
    {
     "data": {
      "text/plain": [
       "\u001b[36mstreamSize\u001b[39m: \u001b[32mInt\u001b[39m = \u001b[32m<lazy>\u001b[39m\n",
       "\u001b[36mfiltrationValue\u001b[39m: \u001b[32mDouble\u001b[39m = \u001b[32m<lazy>\u001b[39m\n",
       "\u001b[36mpatcheslandmarkImages\u001b[39m: \u001b[32mList\u001b[39m[\u001b[32mjava\u001b[39m.\u001b[32mawt\u001b[39m.\u001b[32mimage\u001b[39m.\u001b[32mBufferedImage\u001b[39m] = \u001b[32m<lazy>\u001b[39m"
      ]
     },
     "execution_count": 4,
     "metadata": {},
     "output_type": "execute_result"
    }
   ],
   "source": [
    "lazy val (streamSize, filtrationValue, (_, patcheslandmarkImages)) = lazyStreamIntervalsWithImages(data, 1.0/3)"
   ]
  },
  {
   "cell_type": "code",
   "execution_count": null,
   "metadata": {
    "collapsed": true
   },
   "outputs": [],
   "source": [
    "println(Seq(\n",
    "  \"Image patches stream for\",\n",
    "  s\"maxFiltrationValue = ${filtrationValue}\",\n",
    "  s\"has ${streamSize} simplices\").mkString(\"\\n\"))"
   ]
  },
  {
   "cell_type": "markdown",
   "metadata": {
    "collapsed": false
   },
   "source": [
    "As we can see data consequently shows topological properties of a circle."
   ]
  },
  {
   "cell_type": "code",
   "execution_count": 5,
   "metadata": {
    "collapsed": false
   },
   "outputs": [
    {
     "data": {
      "image/png": "[encoded data removed]"
     },
     "metadata": {},
     "output_type": "display_data"
    },
    {
     "data": {
      "image/png": "[encoded data removed]"
     },
     "metadata": {},
     "output_type": "display_data"
    },
    {
     "data": {
      "image/png": "[encoded data removed]"
     },
     "metadata": {},
     "output_type": "display_data"
    }
   ],
   "source": [
    "drawBarcodes(patcheslandmarkImages)"
   ]
  },
  {
   "cell_type": "markdown",
   "metadata": {},
   "source": [
    "We retrieve 1000 samples by maxmin selection to speed up reduction dimension computations.\n",
    "\n",
    "The following analysis shows that these samples have very similar topological properties."
   ]
  },
  {
   "cell_type": "code",
   "execution_count": 6,
   "metadata": {
    "collapsed": false,
    "scrolled": true
   },
   "outputs": [
    {
     "data": {
      "text/plain": [
       "\u001b[36msubsampledData\u001b[39m: \u001b[32mArray\u001b[39m[\u001b[32mArray\u001b[39m[\u001b[32mDouble\u001b[39m]] = \u001b[33mArray\u001b[39m(\n",
       "  \u001b[33mArray\u001b[39m(\n",
       "    \u001b[32m0.07220993058631951\u001b[39m,\n",
       "    \u001b[32m0.019857730911237867\u001b[39m,\n",
       "    \u001b[32m-0.1317831233200331\u001b[39m,\n",
       "    \u001b[32m-0.19857730911237867\u001b[39m,\n",
       "    \u001b[32m-0.24641638812581534\u001b[39m,\n",
       "    \u001b[32m0.3402892978880307\u001b[39m,\n",
       "    \u001b[32m0.29515809127158105\u001b[39m,\n",
       "    \u001b[32m-0.08304142017426744\u001b[39m,\n",
       "    \u001b[32m-0.147127733569626\u001b[39m,\n",
       "    \u001b[32m-0.21301929522964255\u001b[39m,\n",
       "\u001b[33m...\u001b[39m"
      ]
     },
     "execution_count": 6,
     "metadata": {},
     "output_type": "execute_result"
    }
   ],
   "source": [
    "lazy val subsampledData = subsampleByMaxmin(1000, data) \n",
    "// val lled = lle(sliced, d = 2, k = 5)\n",
    "// val reducedData = lled.getCoordinates"
   ]
  },
  {
   "cell_type": "code",
   "execution_count": 7,
   "metadata": {
    "collapsed": false
   },
   "outputs": [
    {
     "data": {
      "text/plain": [
       "\u001b[36msampledPatchesStreamSize\u001b[39m: \u001b[32mInt\u001b[39m = \u001b[32m<lazy>\u001b[39m\n",
       "\u001b[36msampledFiltrationValue\u001b[39m: \u001b[32mDouble\u001b[39m = \u001b[32m<lazy>\u001b[39m\n",
       "\u001b[36msampledPatchesLandmarkImages\u001b[39m: \u001b[32mList\u001b[39m[\u001b[32mjava\u001b[39m.\u001b[32mawt\u001b[39m.\u001b[32mimage\u001b[39m.\u001b[32mBufferedImage\u001b[39m] = \u001b[32m<lazy>\u001b[39m"
      ]
     },
     "execution_count": 7,
     "metadata": {},
     "output_type": "execute_result"
    }
   ],
   "source": [
    "lazy val (sampledPatchesStreamSize, sampledFiltrationValue, (_, sampledPatchesLandmarkImages))= lazyStreamIntervalsWithImages(data, 1.0/3)"
   ]
  },
  {
   "cell_type": "code",
   "execution_count": 8,
   "metadata": {
    "collapsed": false
   },
   "outputs": [
    {
     "name": "stdout",
     "output_type": "stream",
     "text": [
      "Image patches stream for\n",
      "maxFiltrationValue = 0.24902508258711897\n",
      "has 7990 simplices"
     ]
    },
    {
     "data": {
      "image/png": "[encoded data removed]"
     },
     "metadata": {},
     "output_type": "display_data"
    },
    {
     "name": "stdout",
     "output_type": "stream",
     "text": [
      "\n"
     ]
    },
    {
     "data": {
      "image/png": "[encoded data removed]"
     },
     "metadata": {},
     "output_type": "display_data"
    },
    {
     "data": {
      "image/png": "[encoded data removed]"
     },
     "metadata": {},
     "output_type": "display_data"
    }
   ],
   "source": [
    "println(Seq(\n",
    "  \"Image patches stream for\",\n",
    "  s\"maxFiltrationValue = ${sampledFiltrationValue}\",\n",
    "  s\"has ${sampledPatchesStreamSize} simplices\").mkString(\"\\n\"))\n",
    "\n",
    "drawBarcodes(sampledPatchesLandmarkImages)"
   ]
  },
  {
   "cell_type": "markdown",
   "metadata": {},
   "source": [
    "## LLE"
   ]
  },
  {
   "cell_type": "code",
   "execution_count": 9,
   "metadata": {
    "collapsed": false
   },
   "outputs": [
    {
     "name": "stderr",
     "output_type": "stream",
     "text": [
      "SLF4J: Failed to load class \"org.slf4j.impl.StaticLoggerBinder\".\n",
      "SLF4J: Defaulting to no-operation (NOP) logger implementation\n",
      "SLF4J: See http://www.slf4j.org/codes.html#StaticLoggerBinder for further details.\n"
     ]
    },
    {
     "data": {
      "text/plain": [
       "\u001b[36mlle_\u001b[39m: \u001b[32mLLE\u001b[39m = smile.manifold.LLE@6a7eaa98\n",
       "\u001b[36mlleReducedData\u001b[39m: \u001b[32mArray\u001b[39m[\u001b[32mArray\u001b[39m[\u001b[32mDouble\u001b[39m]] = \u001b[32m<lazy>\u001b[39m"
      ]
     },
     "execution_count": 9,
     "metadata": {},
     "output_type": "execute_result"
    }
   ],
   "source": [
    "val lle_ = lle(subsampledData, d = 2, k = 5)\n",
    "lazy val lleReducedData = lle_.getCoordinates "
   ]
  },
  {
   "cell_type": "code",
   "execution_count": 10,
   "metadata": {
    "collapsed": false,
    "scrolled": false
   },
   "outputs": [
    {
     "data": {
      "text/plain": [
       "\u001b[36mlleStreamSize\u001b[39m: \u001b[32mInt\u001b[39m = \u001b[32m<lazy>\u001b[39m\n",
       "\u001b[36mlleFiltrationValue\u001b[39m: \u001b[32mDouble\u001b[39m = \u001b[32m<lazy>\u001b[39m\n",
       "\u001b[36mllePatcheslandmarkImages\u001b[39m: \u001b[32mList\u001b[39m[\u001b[32mjava\u001b[39m.\u001b[32mawt\u001b[39m.\u001b[32mimage\u001b[39m.\u001b[32mBufferedImage\u001b[39m] = \u001b[32m<lazy>\u001b[39m"
      ]
     },
     "execution_count": 10,
     "metadata": {},
     "output_type": "execute_result"
    }
   ],
   "source": [
    "lazy val (lleStreamSize, lleFiltrationValue, (_, llePatcheslandmarkImages)) =\n",
    "  lazyStreamIntervalsWithImages(lleReducedData, 10.5)"
   ]
  },
  {
   "cell_type": "code",
   "execution_count": 11,
   "metadata": {
    "collapsed": false
   },
   "outputs": [
    {
     "name": "stdout",
     "output_type": "stream",
     "text": [
      "Image patches stream for\n",
      "maxFiltrationValue = 0.03231857755155557\n",
      "has 27754 simplices\n"
     ]
    },
    {
     "data": {
      "image/png": "[encoded data removed]"
     },
     "metadata": {},
     "output_type": "display_data"
    },
    {
     "data": {
      "image/png": "[encoded data removed]"
     },
     "metadata": {},
     "output_type": "display_data"
    }
   ],
   "source": [
    "println(Seq(\n",
    "  \"Image patches stream for\",\n",
    "  s\"maxFiltrationValue = ${lleFiltrationValue}\",\n",
    "  s\"has ${lleStreamSize} simplices\").mkString(\"\\n\"))\n",
    "\n",
    "drawBarcodes(llePatcheslandmarkImages)"
   ]
  },
  {
   "cell_type": "markdown",
   "metadata": {},
   "source": [
    "## Isomap "
   ]
  },
  {
   "cell_type": "code",
   "execution_count": 12,
   "metadata": {
    "collapsed": false
   },
   "outputs": [
    {
     "data": {
      "text/plain": [
       "\u001b[36misomap_\u001b[39m: \u001b[32mIsoMap\u001b[39m = smile.manifold.IsoMap@4c27c8b4\n",
       "\u001b[36misomapReducedData\u001b[39m: \u001b[32mArray\u001b[39m[\u001b[32mArray\u001b[39m[\u001b[32mDouble\u001b[39m]] = \u001b[32m<lazy>\u001b[39m"
      ]
     },
     "execution_count": 12,
     "metadata": {},
     "output_type": "execute_result"
    }
   ],
   "source": [
    "val isomap_ = isomap(subsampledData, d = 2, k = 5)\n",
    "lazy val isomapReducedData = isomap_.getCoordinates"
   ]
  },
  {
   "cell_type": "code",
   "execution_count": 13,
   "metadata": {
    "collapsed": false
   },
   "outputs": [
    {
     "data": {
      "text/plain": [
       "\u001b[36misomapStreamSize\u001b[39m: \u001b[32mInt\u001b[39m = \u001b[32m<lazy>\u001b[39m\n",
       "\u001b[36misomapFiltrationValue\u001b[39m: \u001b[32mDouble\u001b[39m = \u001b[32m<lazy>\u001b[39m\n",
       "\u001b[36misomapPatcheslandmarkImages\u001b[39m: \u001b[32mList\u001b[39m[\u001b[32mjava\u001b[39m.\u001b[32mawt\u001b[39m.\u001b[32mimage\u001b[39m.\u001b[32mBufferedImage\u001b[39m] = \u001b[32m<lazy>\u001b[39m"
      ]
     },
     "execution_count": 13,
     "metadata": {},
     "output_type": "execute_result"
    }
   ],
   "source": [
    "lazy val (isomapStreamSize, isomapFiltrationValue, (_, isomapPatcheslandmarkImages)) =\n",
    "  lazyStreamIntervalsWithImages(isomapReducedData, 3)"
   ]
  },
  {
   "cell_type": "code",
   "execution_count": 14,
   "metadata": {
    "collapsed": false
   },
   "outputs": [
    {
     "name": "stdout",
     "output_type": "stream",
     "text": [
      "Image patches stream for\n",
      "maxFiltrationValue = 2.9416260847951174\n",
      "has 9936 simplices"
     ]
    },
    {
     "data": {
      "image/png": "[encoded data removed]"
     },
     "metadata": {},
     "output_type": "display_data"
    },
    {
     "name": "stdout",
     "output_type": "stream",
     "text": [
      "\n"
     ]
    },
    {
     "data": {
      "image/png": "[encoded data removed]"
     },
     "metadata": {},
     "output_type": "display_data"
    }
   ],
   "source": [
    "println(Seq(\n",
    "  \"Image patches stream for\",\n",
    "  s\"maxFiltrationValue = ${isomapFiltrationValue}\",\n",
    "  s\"has ${isomapStreamSize} simplices\").mkString(\"\\n\"))\n",
    "\n",
    "drawBarcodes(isomapPatcheslandmarkImages)"
   ]
  }
 ],
 "metadata": {
  "anaconda-cloud": {},
  "hide_input": false,
  "kernelspec": {
   "display_name": "Scala",
   "language": "scala",
   "name": "scala"
  },
  "language_info": {
   "codemirror_mode": "text/x-scala",
   "file_extension": ".scala",
   "mimetype": "text/x-scala",
   "name": "scala211",
   "nbconvert_exporter": "scala",
   "pygments_lexer": "scala",
   "version": "2.11.8"
  }
 },
 "nbformat": 4,
 "nbformat_minor": 0
}
