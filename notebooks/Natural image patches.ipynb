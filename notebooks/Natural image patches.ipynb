{
 "cells": [
  {
   "cell_type": "code",
   "execution_count": 1,
   "metadata": {
    "collapsed": false,
    "deletable": true,
    "editable": true
   },
   "outputs": [
    {
     "data": {
      "text/plain": [
       "\u001b[32mimport \u001b[39m\u001b[36m$file.$               \n",
       "\n",
       "\u001b[39m"
      ]
     },
     "execution_count": 1,
     "metadata": {},
     "output_type": "execute_result"
    }
   ],
   "source": [
    "import $file.scripts.importer\n",
    "\n",
    "importer.loadProjectDependencies"
   ]
  },
  {
   "cell_type": "code",
   "execution_count": 2,
   "metadata": {
    "collapsed": false,
    "deletable": true,
    "editable": true
   },
   "outputs": [
    {
     "data": {
      "text/plain": [
       "\u001b[32mimport \u001b[39m\u001b[36msmile.read\n",
       "\u001b[39m\n",
       "\u001b[32mimport \u001b[39m\u001b[36msmile.plot._\n",
       "\u001b[39m\n",
       "\u001b[32mimport \u001b[39m\u001b[36msmile.util._\n",
       "\u001b[39m\n",
       "\u001b[32mimport \u001b[39m\u001b[36msmile.math._, Math._\n",
       "\n",
       "\u001b[39m\n",
       "\u001b[32mimport \u001b[39m\u001b[36msmile.data._\n",
       "\u001b[39m\n",
       "\u001b[32mimport \u001b[39m\u001b[36msmile.interpolation._\n",
       "\u001b[39m\n",
       "\u001b[32mimport \u001b[39m\u001b[36msmile.validation._\n",
       "\u001b[39m\n",
       "\u001b[32mimport \u001b[39m\u001b[36msmile.manifold._\n",
       "\u001b[39m\n",
       "\u001b[32mimport \u001b[39m\u001b[36msmile.mds._\n",
       "\u001b[39m\n",
       "\u001b[32mimport \u001b[39m\u001b[36msmile.projection._\n",
       "\n",
       "\u001b[39m\n",
       "\u001b[32mimport \u001b[39m\u001b[36mscala.collection.JavaConverters._\n",
       "\u001b[39m\n",
       "\u001b[32mimport \u001b[39m\u001b[36mscala.collection.JavaConversions._\n",
       "\u001b[39m\n",
       "\u001b[32mimport \u001b[39m\u001b[36medu.stanford.math.plex4._\n",
       "\u001b[39m\n",
       "\u001b[32mimport \u001b[39m\u001b[36medu.stanford.math.plex4.api._\n",
       "\u001b[39m\n",
       "\u001b[32mimport \u001b[39m\u001b[36medu.stanford.math.plex4.visualization._\n",
       "\u001b[39m\n",
       "\u001b[32mimport \u001b[39m\u001b[36medu.stanford.math.plex4.homology.barcodes._\n",
       "\u001b[39m\n",
       "\u001b[32mimport \u001b[39m\u001b[36medu.stanford.math.plex4.streams.impl.LazyWitnessStream\n",
       "\n",
       "\u001b[39m\n",
       "\u001b[32mimport \u001b[39m\u001b[36mbreeze.numerics._\n",
       "\u001b[39m\n",
       "\u001b[32mimport \u001b[39m\u001b[36mbreeze.linalg._\n",
       "\u001b[39m\n",
       "\u001b[32mimport \u001b[39m\u001b[36mbreeze.math._\n",
       "\u001b[39m\n",
       "\u001b[32mimport \u001b[39m\u001b[36mbreeze.stats.{mean, stddev}\n",
       "\u001b[39m\n",
       "\u001b[32mimport \u001b[39m\u001b[36mbreeze.util.JavaArrayOps\n",
       "\n",
       "\u001b[39m\n",
       "\u001b[32mimport \u001b[39m\u001b[36mtda.persistence.Analysis._\n",
       "\u001b[39m\n",
       "\u001b[32mimport \u001b[39m\u001b[36mtda.persistence.Math._\u001b[39m"
      ]
     },
     "execution_count": 2,
     "metadata": {},
     "output_type": "execute_result"
    }
   ],
   "source": [
    "import smile.read\n",
    "import smile.plot._\n",
    "import smile.util._\n",
    "import smile.math._, Math._\n",
    "\n",
    "import smile.data._\n",
    "import smile.interpolation._\n",
    "import smile.validation._\n",
    "import smile.manifold._\n",
    "import smile.mds._\n",
    "import smile.projection._\n",
    "\n",
    "import scala.collection.JavaConverters._\n",
    "import scala.collection.JavaConversions._\n",
    "import edu.stanford.math.plex4._\n",
    "import edu.stanford.math.plex4.api._\n",
    "import edu.stanford.math.plex4.visualization._\n",
    "import edu.stanford.math.plex4.homology.barcodes._\n",
    "import edu.stanford.math.plex4.streams.impl.LazyWitnessStream\n",
    "\n",
    "import breeze.numerics._\n",
    "import breeze.linalg._\n",
    "import breeze.math._\n",
    "import breeze.stats.{mean, stddev}\n",
    "import breeze.util.JavaArrayOps\n",
    "\n",
    "import tda.persistence.Analysis._\n",
    "import tda.persistence.Math._"
   ]
  },
  {
   "cell_type": "code",
   "execution_count": 3,
   "metadata": {
    "collapsed": false,
    "deletable": true,
    "editable": true
   },
   "outputs": [
    {
     "data": {
      "text/plain": [
       "defined \u001b[32mfunction\u001b[39m \u001b[36mdrawBarcodes\u001b[39m\n",
       "\u001b[36mmaxDimension\u001b[39m: \u001b[32mInt\u001b[39m = \u001b[32m3\u001b[39m\n",
       "\u001b[36mpersistence\u001b[39m: \u001b[32mhomology\u001b[39m.\u001b[32minterfaces\u001b[39m.\u001b[32mAbstractPersistenceAlgorithm\u001b[39m[\u001b[32mhomology\u001b[39m.\u001b[32mchain_basis\u001b[39m.\u001b[32mSimplex\u001b[39m] = \u001b[32m<lazy>\u001b[39m\n",
       "defined \u001b[32mfunction\u001b[39m \u001b[36mlazyStreamIntervalsWithImages\u001b[39m\n",
       "defined \u001b[32mfunction\u001b[39m \u001b[36mtime\u001b[39m"
      ]
     },
     "execution_count": 3,
     "metadata": {},
     "output_type": "execute_result"
    }
   ],
   "source": [
    "def drawBarcodes(images: Seq[java.awt.image.BufferedImage]) = {\n",
    "  images foreach publish.png \n",
    "}\n",
    "\n",
    "val maxDimension = 3\n",
    "lazy val persistence = Plex4.getModularSimplicialAlgorithm(maxDimension, 2)\n",
    "\n",
    "def lazyStreamIntervalsWithImages(data: Array[Array[Double]], scale: Double) = {\n",
    "  val noLandmarkPoints = 50\n",
    "  val numDivisions = 100 \n",
    "\n",
    "  lazy val landmarkSelector = Plex4\n",
    "    .createMaxMinSelector(data, noLandmarkPoints)\n",
    "\n",
    "  lazy val landmarkIndices = landmarkSelector.getLandmarkPoints()\n",
    "\n",
    "  val D = landmarkSelector.getMaxDistanceFromPointsToLandmarks \n",
    "\n",
    "  lazy val filtrationValue = scale * D  \n",
    "\n",
    "  lazy val patchesLandmarksStream = new LazyWitnessStream(\n",
    "    landmarkSelector.getUnderlyingMetricSpace,\n",
    "    landmarkSelector,\n",
    "    maxDimension,\n",
    "    filtrationValue,\n",
    "    1,\n",
    "    numDivisions)\n",
    "\n",
    "  patchesLandmarksStream.finalizeStream()\n",
    "  \n",
    "  (\n",
    "    patchesLandmarksStream.getSize,\n",
    "    filtrationValue,\n",
    "    intervalsWithImages(\n",
    "      patchesLandmarksStream,\n",
    "      maxDimension,\n",
    "      filtrationValue,\n",
    "      persistence)  \n",
    "  )\n",
    "}\n",
    "\n",
    "def time[R](block: => R): R = {\n",
    "    val t0 = System.currentTimeMillis()\n",
    "    val result = block    // call-by-name\n",
    "    val t1 = System.currentTimeMillis()\n",
    "    println(\"Elapsed time: \" + ((t1 - t0) / 1000.0) + \"s\")\n",
    "    result\n",
    "}"
   ]
  },
  {
   "cell_type": "markdown",
   "metadata": {
    "deletable": true,
    "editable": true
   },
   "source": [
    "# Natural image patches\n",
    "idea for analysis and dataset comes from [On the Local Behavior of Spaces of Natural Images](http://math.uchicago.edu/~shmuel/AAT-readings/Data%20Analysis%20/mumford-carlsson%20et%20al.pdf)\n",
    "\n",
    "(points15 is X(15, 30) from the paper)"
   ]
  },
  {
   "cell_type": "code",
   "execution_count": 4,
   "metadata": {
    "collapsed": false,
    "deletable": true,
    "editable": true
   },
   "outputs": [
    {
     "data": {
      "text/plain": [
       "\u001b[36mpoints15\u001b[39m: \u001b[32mArray\u001b[39m[\u001b[32mArray\u001b[39m[\u001b[32mDouble\u001b[39m]] = \u001b[32m<lazy>\u001b[39m"
      ]
     },
     "execution_count": 4,
     "metadata": {},
     "output_type": "execute_result"
    }
   ],
   "source": [
    "lazy val points15 = read.csv(\"../data/pointsDct15.csv\").unzip"
   ]
  },
  {
   "cell_type": "code",
   "execution_count": 5,
   "metadata": {
    "collapsed": false,
    "deletable": true,
    "editable": true
   },
   "outputs": [
    {
     "data": {
      "text/plain": [
       "\u001b[36mpatchesStreamSize\u001b[39m: \u001b[32mInt\u001b[39m = \u001b[32m<lazy>\u001b[39m\n",
       "\u001b[36mfiltrationValue\u001b[39m: \u001b[32mDouble\u001b[39m = \u001b[32m<lazy>\u001b[39m\n",
       "\u001b[36mpatchesLandmarkImages\u001b[39m: \u001b[32mList\u001b[39m[\u001b[32mjava\u001b[39m.\u001b[32mawt\u001b[39m.\u001b[32mimage\u001b[39m.\u001b[32mBufferedImage\u001b[39m] = \u001b[32m<lazy>\u001b[39m"
      ]
     },
     "execution_count": 5,
     "metadata": {},
     "output_type": "execute_result"
    }
   ],
   "source": [
    "lazy val (patchesStreamSize, filtrationValue, (_, patchesLandmarkImages))= lazyStreamIntervalsWithImages(points15, 1)"
   ]
  },
  {
   "cell_type": "code",
   "execution_count": 6,
   "metadata": {
    "collapsed": false,
    "deletable": true,
    "editable": true
   },
   "outputs": [
    {
     "name": "stdout",
     "output_type": "stream",
     "text": [
      "Image patches stream for\n",
      "maxFiltrationValue = 0.6575749248107894\n",
      "has 135082 simplices\n"
     ]
    },
    {
     "data": {
      "image/png": "[encoded data removed]"
     },
     "metadata": {},
     "output_type": "display_data"
    },
    {
     "data": {
      "image/png": "[encoded data removed]"
     },
     "metadata": {},
     "output_type": "display_data"
    },
    {
     "data": {
      "image/png": "[encoded data removed]"
     },
     "metadata": {},
     "output_type": "display_data"
    }
   ],
   "source": [
    "println(Seq(\n",
    "  \"Image patches stream for\",\n",
    "  s\"maxFiltrationValue = ${filtrationValue}\",\n",
    "  s\"has ${patchesStreamSize} simplices\").mkString(\"\\n\"))\n",
    "\n",
    "drawBarcodes(patchesLandmarkImages)"
   ]
  },
  {
   "cell_type": "markdown",
   "metadata": {
    "deletable": true,
    "editable": true
   },
   "source": [
    "# Sampling\n",
    "\n",
    "We downsample the dataset to make running manifold learning algorithms feasible (running Smile on the whole dataset takes up too much memory)."
   ]
  },
  {
   "cell_type": "code",
   "execution_count": 7,
   "metadata": {
    "collapsed": false,
    "deletable": true,
    "editable": true
   },
   "outputs": [
    {
     "name": "stdout",
     "output_type": "stream",
     "text": [
      "Elapsed time: 401.165s\n"
     ]
    },
    {
     "data": {
      "text/plain": [
       "\u001b[36msubsampledPoints15\u001b[39m: \u001b[32mArray\u001b[39m[\u001b[32mArray\u001b[39m[\u001b[32mDouble\u001b[39m]] = \u001b[33mArray\u001b[39m(\n",
       "  \u001b[33mArray\u001b[39m(\n",
       "    \u001b[32m0.5876577815072993\u001b[39m,\n",
       "    \u001b[32m-0.6987115426157965\u001b[39m,\n",
       "    \u001b[32m0.046692374268362785\u001b[39m,\n",
       "    \u001b[32m-0.3543812583918219\u001b[39m,\n",
       "    \u001b[32m0.18623649222463423\u001b[39m,\n",
       "    \u001b[32m-0.05641813327217153\u001b[39m,\n",
       "    \u001b[32m-0.0031351054652918736\u001b[39m,\n",
       "    \u001b[32m-0.028588680320568917\u001b[39m\n",
       "  ),\n",
       "  \u001b[33mArray\u001b[39m(\n",
       "\u001b[33m...\u001b[39m"
      ]
     },
     "execution_count": 7,
     "metadata": {},
     "output_type": "execute_result"
    }
   ],
   "source": [
    "val subsampledPoints15 = time { subsampleByMaxmin(1250, points15) }"
   ]
  },
  {
   "cell_type": "code",
   "execution_count": 8,
   "metadata": {
    "collapsed": false,
    "deletable": true,
    "editable": true
   },
   "outputs": [
    {
     "data": {
      "text/plain": [
       "\u001b[36msampledPatchesStreamSize\u001b[39m: \u001b[32mInt\u001b[39m = \u001b[32m<lazy>\u001b[39m\n",
       "\u001b[36msampledFiltrationValue\u001b[39m: \u001b[32mDouble\u001b[39m = \u001b[32m<lazy>\u001b[39m\n",
       "\u001b[36msampledPatchesLandmarkImages\u001b[39m: \u001b[32mList\u001b[39m[\u001b[32mjava\u001b[39m.\u001b[32mawt\u001b[39m.\u001b[32mimage\u001b[39m.\u001b[32mBufferedImage\u001b[39m] = \u001b[32m<lazy>\u001b[39m"
      ]
     },
     "execution_count": 8,
     "metadata": {},
     "output_type": "execute_result"
    }
   ],
   "source": [
    "lazy val (sampledPatchesStreamSize, sampledFiltrationValue, (_, sampledPatchesLandmarkImages))= lazyStreamIntervalsWithImages(subsampledPoints15, 0.7)"
   ]
  },
  {
   "cell_type": "code",
   "execution_count": 9,
   "metadata": {
    "collapsed": false,
    "deletable": true,
    "editable": true
   },
   "outputs": [
    {
     "name": "stdout",
     "output_type": "stream",
     "text": [
      "Sampled image patches stream for\n",
      "maxFiltrationValue = 0.4349444182112393\n",
      "has 14580 simplices"
     ]
    },
    {
     "data": {
      "image/png": "[encoded data removed]"
     },
     "metadata": {},
     "output_type": "display_data"
    },
    {
     "name": "stdout",
     "output_type": "stream",
     "text": [
      "\n"
     ]
    },
    {
     "data": {
      "image/png": "[encoded data removed]"
     },
     "metadata": {},
     "output_type": "display_data"
    },
    {
     "data": {
      "image/png": "[encoded data removed]"
     },
     "metadata": {},
     "output_type": "display_data"
    }
   ],
   "source": [
    "println(Seq(\n",
    "  \"Sampled image patches stream for\",\n",
    "  s\"maxFiltrationValue = ${sampledFiltrationValue}\",\n",
    "  s\"has ${sampledPatchesStreamSize} simplices\").mkString(\"\\n\"))\n",
    "\n",
    "drawBarcodes(sampledPatchesLandmarkImages)"
   ]
  },
  {
   "cell_type": "markdown",
   "metadata": {
    "deletable": true,
    "editable": true
   },
   "source": [
    "## Isomap "
   ]
  },
  {
   "cell_type": "code",
   "execution_count": 10,
   "metadata": {
    "collapsed": false,
    "deletable": true,
    "editable": true
   },
   "outputs": [
    {
     "name": "stderr",
     "output_type": "stream",
     "text": [
      "SLF4J: Failed to load class \"org.slf4j.impl.StaticLoggerBinder\".\n",
      "SLF4J: Defaulting to no-operation (NOP) logger implementation\n",
      "SLF4J: See http://www.slf4j.org/codes.html#StaticLoggerBinder for further details.\n"
     ]
    },
    {
     "name": "stdout",
     "output_type": "stream",
     "text": [
      "Elapsed time: 1.173s\n"
     ]
    },
    {
     "data": {
      "text/plain": [
       "\u001b[36misomap_\u001b[39m: \u001b[32mIsoMap\u001b[39m = smile.manifold.IsoMap@7ad00120\n",
       "\u001b[36misomapReducedData\u001b[39m: \u001b[32mArray\u001b[39m[\u001b[32mArray\u001b[39m[\u001b[32mDouble\u001b[39m]] = \u001b[32m<lazy>\u001b[39m"
      ]
     },
     "execution_count": 10,
     "metadata": {},
     "output_type": "execute_result"
    }
   ],
   "source": [
    "val isomap_ = time { isomap(subsampledPoints15, d = 3, k = 10) }\n",
    "lazy val isomapReducedData = isomap_.getCoordinates\n",
    "\n",
    "lazy val (isomapSampledPatchesStreamSize, isomapSampledFiltrationValue, (_, isomapSampledPatchesLandmarkImages))= lazyStreamIntervalsWithImages(isomapReducedData, 1)"
   ]
  },
  {
   "cell_type": "code",
   "execution_count": 12,
   "metadata": {
    "collapsed": false,
    "deletable": true,
    "editable": true
   },
   "outputs": [
    {
     "name": "stdout",
     "output_type": "stream",
     "text": [
      "Image patches reduced by Isomap stream for\n",
      "maxFiltrationValue = 1.7746461111788854\n",
      "has 2083 simplices"
     ]
    },
    {
     "data": {
      "image/png": "[encoded data removed]"
     },
     "metadata": {},
     "output_type": "display_data"
    },
    {
     "name": "stdout",
     "output_type": "stream",
     "text": [
      "\n"
     ]
    },
    {
     "data": {
      "image/png": "[encoded data removed]"
     },
     "metadata": {},
     "output_type": "display_data"
    },
    {
     "data": {
      "image/png": "[encoded data removed]"
     },
     "metadata": {},
     "output_type": "display_data"
    }
   ],
   "source": [
    "println(Seq(\n",
    "  \"Image patches reduced by Isomap stream for\",\n",
    "  s\"maxFiltrationValue = ${isomapSampledFiltrationValue}\",\n",
    "  s\"has ${isomapSampledPatchesStreamSize} simplices\").mkString(\"\\n\"))\n",
    "\n",
    "drawBarcodes(isomapSampledPatchesLandmarkImages)"
   ]
  },
  {
   "cell_type": "markdown",
   "metadata": {
    "deletable": true,
    "editable": true
   },
   "source": [
    "## LLE ($d$ = 3)"
   ]
  },
  {
   "cell_type": "code",
   "execution_count": 13,
   "metadata": {
    "collapsed": false,
    "deletable": true,
    "editable": true
   },
   "outputs": [
    {
     "name": "stdout",
     "output_type": "stream",
     "text": [
      "Elapsed time: 44.938s\n"
     ]
    },
    {
     "data": {
      "text/plain": [
       "\u001b[36mlle_\u001b[39m: \u001b[32mLLE\u001b[39m = smile.manifold.LLE@69568b37\n",
       "\u001b[36mlleReducedData\u001b[39m: \u001b[32mArray\u001b[39m[\u001b[32mArray\u001b[39m[\u001b[32mDouble\u001b[39m]] = \u001b[32m<lazy>\u001b[39m"
      ]
     },
     "execution_count": 13,
     "metadata": {},
     "output_type": "execute_result"
    }
   ],
   "source": [
    "val lle_ = time { lle(subsampledPoints15, d = 3, k = 10) }\n",
    "lazy val lleReducedData = lle_.getCoordinates\n",
    "\n",
    "lazy val (lleSampledPatchesStreamSize, lleSampledFiltrationValue, (_, lleSampledPatchesLandmarkImages))= lazyStreamIntervalsWithImages(lleReducedData, 3)"
   ]
  },
  {
   "cell_type": "code",
   "execution_count": 15,
   "metadata": {
    "collapsed": false,
    "deletable": true,
    "editable": true
   },
   "outputs": [
    {
     "name": "stdout",
     "output_type": "stream",
     "text": [
      "Image patches reduced by LLE for\n",
      "maxFiltrationValue = 0.107101224709659\n",
      "has 243684 simplices"
     ]
    },
    {
     "data": {
      "image/png": "[encoded data removed]"
     },
     "metadata": {},
     "output_type": "display_data"
    },
    {
     "name": "stdout",
     "output_type": "stream",
     "text": [
      "\n"
     ]
    },
    {
     "data": {
      "image/png": "[encoded data removed]"
     },
     "metadata": {},
     "output_type": "display_data"
    },
    {
     "data": {
      "image/png": "[encoded data removed]"
     },
     "metadata": {},
     "output_type": "display_data"
    }
   ],
   "source": [
    "println(Seq(\n",
    "  \"Image patches reduced by LLE for\",\n",
    "  s\"maxFiltrationValue = ${lleSampledFiltrationValue}\",\n",
    "  s\"has ${lleSampledPatchesStreamSize} simplices\").mkString(\"\\n\"))\n",
    "\n",
    "drawBarcodes(lleSampledPatchesLandmarkImages)"
   ]
  },
  {
   "cell_type": "markdown",
   "metadata": {
    "deletable": true,
    "editable": true
   },
   "source": [
    "## LLE ($d$ = 4)"
   ]
  },
  {
   "cell_type": "code",
   "execution_count": 16,
   "metadata": {
    "collapsed": false,
    "deletable": true,
    "editable": true
   },
   "outputs": [
    {
     "name": "stdout",
     "output_type": "stream",
     "text": [
      "Elapsed time: 46.743s\n"
     ]
    },
    {
     "data": {
      "text/plain": [
       "\u001b[36mlle4_\u001b[39m: \u001b[32mLLE\u001b[39m = smile.manifold.LLE@7338e668\n",
       "\u001b[36mlle4ReducedData\u001b[39m: \u001b[32mArray\u001b[39m[\u001b[32mArray\u001b[39m[\u001b[32mDouble\u001b[39m]] = \u001b[32m<lazy>\u001b[39m"
      ]
     },
     "execution_count": 16,
     "metadata": {},
     "output_type": "execute_result"
    }
   ],
   "source": [
    "val lle4_ = time { lle(subsampledPoints15, d = 4, k = 10) }\n",
    "lazy val lle4ReducedData = lle_.getCoordinates\n",
    "\n",
    "lazy val (lle4SampledPatchesStreamSize, lle4SampledFiltrationValue, (_, lle4SampledPatchesLandmarkImages))= lazyStreamIntervalsWithImages(lle4ReducedData, 2)"
   ]
  },
  {
   "cell_type": "code",
   "execution_count": 18,
   "metadata": {
    "collapsed": false,
    "deletable": true,
    "editable": true,
    "scrolled": false
   },
   "outputs": [
    {
     "name": "stdout",
     "output_type": "stream",
     "text": [
      "Image patches reduced by LLE stream for\n",
      "maxFiltrationValue = 0.07101276904866091\n",
      "has 167069 simplices\n"
     ]
    },
    {
     "data": {
      "image/png": "[encoded data removed]"
     },
     "metadata": {},
     "output_type": "display_data"
    },
    {
     "data": {
      "image/png": "[encoded data removed]"
     },
     "metadata": {},
     "output_type": "display_data"
    },
    {
     "data": {
      "image/png": "[encoded data removed]"
     },
     "metadata": {},
     "output_type": "display_data"
    }
   ],
   "source": [
    "println(Seq(\n",
    "  \"Image patches reduced by LLE stream for\",\n",
    "  s\"maxFiltrationValue = ${lle4SampledFiltrationValue}\",\n",
    "  s\"has ${lle4SampledPatchesStreamSize} simplices\").mkString(\"\\n\"))\n",
    "\n",
    "drawBarcodes(lle4SampledPatchesLandmarkImages)"
   ]
  },
  {
   "cell_type": "markdown",
   "metadata": {
    "deletable": true,
    "editable": true
   },
   "source": [
    "## KPCA"
   ]
  },
  {
   "cell_type": "code",
   "execution_count": 19,
   "metadata": {
    "collapsed": false,
    "deletable": true,
    "editable": true
   },
   "outputs": [
    {
     "data": {
      "text/plain": [
       "\u001b[36mkpca_\u001b[39m: \u001b[32mKPCA\u001b[39m[\u001b[32mArray\u001b[39m[\u001b[32mDouble\u001b[39m]] = smile.projection.KPCA@50544b41\n",
       "\u001b[36mkpcaReducedData\u001b[39m: \u001b[32mArray\u001b[39m[\u001b[32mArray\u001b[39m[\u001b[32mDouble\u001b[39m]] = \u001b[32m<lazy>\u001b[39m"
      ]
     },
     "execution_count": 19,
     "metadata": {},
     "output_type": "execute_result"
    }
   ],
   "source": [
    "val kpca_ = kpca(subsampledPoints15, new kernel.PolynomialKernel(2, 2.0, 1.0), k = 3)\n",
    "lazy val kpcaReducedData = kpca_.getCoordinates\n",
    "\n",
    "lazy val (lle4SampledPatchesStreamSize, lle4SampledFiltrationValue, (_, lle4SampledPatchesLandmarkImages))= lazyStreamIntervalsWithImages(lle4ReducedData, 3)"
   ]
  },
  {
   "cell_type": "code",
   "execution_count": 21,
   "metadata": {
    "collapsed": false,
    "deletable": true,
    "editable": true
   },
   "outputs": [
    {
     "name": "stdout",
     "output_type": "stream",
     "text": [
      "Image patches (reduced by polynomial kernel KPCA) stream for\n",
      "maxFiltrationValue = 0.10589552449355005\n",
      "has 240316 simplices\n"
     ]
    },
    {
     "data": {
      "image/png": "[encoded data removed]"
     },
     "metadata": {},
     "output_type": "display_data"
    },
    {
     "data": {
      "image/png": "[encoded data removed]"
     },
     "metadata": {},
     "output_type": "display_data"
    }
   ],
   "source": [
    "println(Seq(\n",
    "  \"Image patches (reduced by polynomial kernel KPCA) stream for\",\n",
    "  s\"maxFiltrationValue = ${lle4SampledFiltrationValue}\",\n",
    "  s\"has ${lle4SampledPatchesStreamSize} simplices\").mkString(\"\\n\"))\n",
    "\n",
    "drawBarcodes(lle4SampledPatchesLandmarkImages)"
   ]
  }
 ],
 "metadata": {
  "anaconda-cloud": {},
  "hide_input": false,
  "kernelspec": {
   "display_name": "Scala",
   "language": "scala",
   "name": "scala"
  },
  "language_info": {
   "codemirror_mode": "text/x-scala",
   "file_extension": ".scala",
   "mimetype": "text/x-scala",
   "name": "scala211",
   "nbconvert_exporter": "script",
   "pygments_lexer": "scala",
   "version": "2.11.8"
  }
 },
 "nbformat": 4,
 "nbformat_minor": 0
}
