{
 "cells": [
  {
   "cell_type": "code",
   "execution_count": 1,
   "metadata": {
    "collapsed": false
   },
   "outputs": [
    {
     "data": {
      "text/plain": [
       "\u001b[32mimport \u001b[39m\u001b[36m$file.$               \n",
       "\n",
       "\u001b[39m"
      ]
     },
     "execution_count": 1,
     "metadata": {},
     "output_type": "execute_result"
    }
   ],
   "source": [
    "import $file.scripts.importer\n",
    "\n",
    "importer.loadProjectDependencies"
   ]
  },
  {
   "cell_type": "code",
   "execution_count": 2,
   "metadata": {
    "collapsed": false
   },
   "outputs": [
    {
     "data": {
      "text/plain": [
       "\u001b[32mimport \u001b[39m\u001b[36mscala.collection.JavaConverters._\n",
       "\u001b[39m\n",
       "\u001b[32mimport \u001b[39m\u001b[36mscala.collection.JavaConversions._\n",
       "\u001b[39m\n",
       "\u001b[32mimport \u001b[39m\u001b[36medu.stanford.math.plex4._\n",
       "\u001b[39m\n",
       "\u001b[32mimport \u001b[39m\u001b[36medu.stanford.math.plex4.api._\n",
       "\u001b[39m\n",
       "\u001b[32mimport \u001b[39m\u001b[36medu.stanford.math.plex4.visualization._\n",
       "\u001b[39m\n",
       "\u001b[32mimport \u001b[39m\u001b[36medu.stanford.math.plex4.homology.barcodes._\n",
       "\n",
       "\u001b[39m\n",
       "\u001b[32mimport \u001b[39m\u001b[36mbreeze.numerics._\n",
       "\u001b[39m\n",
       "\u001b[32mimport \u001b[39m\u001b[36mbreeze.linalg._\n",
       "\u001b[39m\n",
       "\u001b[32mimport \u001b[39m\u001b[36mbreeze.math._\n",
       "\u001b[39m\n",
       "\u001b[32mimport \u001b[39m\u001b[36mbreeze.stats.{mean, stddev}\n",
       "\u001b[39m\n",
       "\u001b[32mimport \u001b[39m\u001b[36mbreeze.util.JavaArrayOps\n",
       "\n",
       "\u001b[39m\n",
       "\u001b[32mimport \u001b[39m\u001b[36mtda.persistence.Analysis._\n",
       "\u001b[39m\n",
       "\u001b[32mimport \u001b[39m\u001b[36mtda.persistence.Math\n",
       "\n",
       "\u001b[39m\n",
       "defined \u001b[32mfunction\u001b[39m \u001b[36mmapEntryAsTuple\u001b[39m\n",
       "defined \u001b[32mfunction\u001b[39m \u001b[36mdrawBarcodes\u001b[39m"
      ]
     },
     "execution_count": 2,
     "metadata": {},
     "output_type": "execute_result"
    }
   ],
   "source": [
    "import scala.collection.JavaConverters._\n",
    "import scala.collection.JavaConversions._\n",
    "import edu.stanford.math.plex4._\n",
    "import edu.stanford.math.plex4.api._\n",
    "import edu.stanford.math.plex4.visualization._\n",
    "import edu.stanford.math.plex4.homology.barcodes._\n",
    "\n",
    "import breeze.numerics._\n",
    "import breeze.linalg._\n",
    "import breeze.math._\n",
    "import breeze.stats.{mean, stddev}\n",
    "import breeze.util.JavaArrayOps\n",
    "\n",
    "import tda.persistence.Analysis._\n",
    "import tda.persistence.Math\n",
    "\n",
    "implicit def mapEntryAsTuple[T,S](me: java.util.Map.Entry[T,S]): (T,S) = {\n",
    "  (me.getKey(), me.getValue)\n",
    "}\n",
    "\n",
    "def drawBarcodes(images: Seq[java.awt.image.BufferedImage]) = {\n",
    "  images foreach publish.png \n",
    "}\n"
   ]
  },
  {
   "cell_type": "code",
   "execution_count": 3,
   "metadata": {
    "collapsed": false
   },
   "outputs": [
    {
     "data": {
      "text/plain": [
       "\u001b[36mstream\u001b[39m: \u001b[32mstreams\u001b[39m.\u001b[32mimpl\u001b[39m.\u001b[32mExplicitSimplexStream\u001b[39m = \u001b[32m<lazy>\u001b[39m\n",
       "\u001b[36mres2_8\u001b[39m: \u001b[32mInt\u001b[39m = \u001b[32m6\u001b[39m"
      ]
     },
     "execution_count": 3,
     "metadata": {},
     "output_type": "execute_result"
    }
   ],
   "source": [
    "lazy val stream = Plex4.createExplicitSimplexStream()\n",
    "\n",
    "stream.addVertex(0)\n",
    "stream.addVertex(1)\n",
    "stream.addVertex(2)\n",
    "stream.addElement(Array(0, 1))\n",
    "stream.addElement(Array(0, 2))\n",
    "stream.addElement(Array(1,2))\n",
    "stream.finalizeStream()\n",
    "\n",
    "stream.getSize"
   ]
  },
  {
   "cell_type": "code",
   "execution_count": 4,
   "metadata": {
    "collapsed": false
   },
   "outputs": [
    {
     "data": {
      "text/plain": [
       "\u001b[36mpersistence\u001b[39m: \u001b[32mhomology\u001b[39m.\u001b[32minterfaces\u001b[39m.\u001b[32mAbstractPersistenceAlgorithm\u001b[39m[\u001b[32mhomology\u001b[39m.\u001b[32mchain_basis\u001b[39m.\u001b[32mSimplex\u001b[39m] = \u001b[32m<lazy>\u001b[39m\n",
       "\u001b[36mcircleIntervals\u001b[39m: \u001b[32mBarcodeCollection\u001b[39m[\u001b[32mInteger\u001b[39m] = \u001b[32m<lazy>\u001b[39m"
      ]
     },
     "execution_count": 4,
     "metadata": {},
     "output_type": "execute_result"
    }
   ],
   "source": [
    "lazy val persistence = Plex4.getModularSimplicialAlgorithm(3, 2)\n",
    "lazy val circleIntervals = persistence.computeIndexIntervals(stream)"
   ]
  },
  {
   "cell_type": "markdown",
   "metadata": {},
   "source": [
    "## 9 - sphere "
   ]
  },
  {
   "cell_type": "code",
   "execution_count": 5,
   "metadata": {
    "collapsed": false
   },
   "outputs": [
    {
     "data": {
      "text/plain": [
       "\u001b[36mdimension\u001b[39m: \u001b[32mInt\u001b[39m = \u001b[32m<lazy>\u001b[39m\n",
       "\u001b[36mstream\u001b[39m: \u001b[32mstreams\u001b[39m.\u001b[32mimpl\u001b[39m.\u001b[32mExplicitSimplexStream\u001b[39m = \u001b[32m<lazy>\u001b[39m\n",
       "\u001b[36mres4_4\u001b[39m: \u001b[32mBoolean\u001b[39m = \u001b[32mtrue\u001b[39m\n",
       "\u001b[36mpersistence9\u001b[39m: \u001b[32mhomology\u001b[39m.\u001b[32minterfaces\u001b[39m.\u001b[32mAbstractPersistenceAlgorithm\u001b[39m[\u001b[32mhomology\u001b[39m.\u001b[32mchain_basis\u001b[39m.\u001b[32mSimplex\u001b[39m] = \u001b[32m<lazy>\u001b[39m"
      ]
     },
     "execution_count": 5,
     "metadata": {},
     "output_type": "execute_result"
    }
   ],
   "source": [
    "lazy val dimension = 9\n",
    "lazy val stream = Plex4.createExplicitSimplexStream()\n",
    "stream.addElement(0 to (dimension + 1) toArray)\n",
    "stream.ensureAllFaces()\n",
    "stream.removeElementIfPresent(0 to (dimension + 1) toArray)\n",
    "stream.finalizeStream()\n",
    "\n",
    "lazy val persistence9 = Plex4.getModularSimplicialAlgorithm(dimension + 1, 2)"
   ]
  },
  {
   "cell_type": "code",
   "execution_count": 20,
   "metadata": {
    "collapsed": false
   },
   "outputs": [
    {
     "data": {
      "text/plain": [
       "\u001b[36mintervals9\u001b[39m: \u001b[32mBarcodeCollection\u001b[39m[\u001b[32mjava\u001b[39m.\u001b[32mlang\u001b[39m.\u001b[32mDouble\u001b[39m] = \u001b[32m<lazy>\u001b[39m"
      ]
     },
     "execution_count": 20,
     "metadata": {},
     "output_type": "execute_result"
    }
   ],
   "source": [
    "lazy val intervals9 = persistence.computeIntervals(stream)"
   ]
  },
  {
   "cell_type": "markdown",
   "metadata": {},
   "source": [
    "# House\n",
    "\n",
    "![](https://github.com/appliedtopology/javaplex/raw/master/reports/javaplex_tutorial/houseFig.png)"
   ]
  },
  {
   "cell_type": "markdown",
   "metadata": {},
   "source": [
    "### Explicit stream"
   ]
  },
  {
   "cell_type": "code",
   "execution_count": 7,
   "metadata": {
    "collapsed": false
   },
   "outputs": [
    {
     "data": {
      "text/plain": [
       "\u001b[36mhouseStream\u001b[39m: \u001b[32mstreams\u001b[39m.\u001b[32mimpl\u001b[39m.\u001b[32mExplicitSimplexStream\u001b[39m = \u001b[32m<lazy>\u001b[39m"
      ]
     },
     "execution_count": 7,
     "metadata": {},
     "output_type": "execute_result"
    }
   ],
   "source": [
    "lazy val houseStream = Plex4.createExplicitSimplexStream();\n",
    "houseStream.addVertex(1, 0);\n",
    "houseStream.addVertex(2, 0);\n",
    "houseStream.addVertex(3, 0);\n",
    "houseStream.addVertex(4, 0);\n",
    "houseStream.addVertex(5, 1);\n",
    "houseStream.addElement(Array(1, 2), 0);\n",
    "houseStream.addElement(Array(2,3), 0);\n",
    "houseStream.addElement(Array(3, 4), 0);\n",
    "houseStream.addElement(Array(4, 1), 0);\n",
    "houseStream.addElement(Array(3, 5), 2);\n",
    "houseStream.addElement(Array(4, 5), 3);\n",
    "houseStream.addElement(Array(3, 4, 5), 7);\n",
    "houseStream.finalizeStream()"
   ]
  },
  {
   "cell_type": "code",
   "execution_count": 8,
   "metadata": {
    "collapsed": false
   },
   "outputs": [
    {
     "data": {
      "text/plain": [
       "\u001b[36mintervals\u001b[39m: \u001b[32mBarcodeCollection\u001b[39m[\u001b[32mjava\u001b[39m.\u001b[32mlang\u001b[39m.\u001b[32mDouble\u001b[39m] = \u001b[32m<lazy>\u001b[39m\n",
       "\u001b[36mactualIntervals\u001b[39m: \u001b[32mList\u001b[39m[\u001b[32mjava\u001b[39m.\u001b[32mutil\u001b[39m.\u001b[32mList\u001b[39m[\u001b[32mInterval\u001b[39m[\u001b[32mjava\u001b[39m.\u001b[32mlang\u001b[39m.\u001b[32mDouble\u001b[39m]]] = \u001b[32m<lazy>\u001b[39m\n",
       "\u001b[36mres7_2\u001b[39m: \u001b[32mInt\u001b[39m = \u001b[32m2\u001b[39m"
      ]
     },
     "execution_count": 8,
     "metadata": {},
     "output_type": "execute_result"
    }
   ],
   "source": [
    "lazy val intervals = persistence.computeIntervals(houseStream)\n",
    "lazy val actualIntervals = intervals.getIntervalIterator.asScala.map(_.getValue).toList\n",
    "actualIntervals.length"
   ]
  },
  {
   "cell_type": "code",
   "execution_count": 9,
   "metadata": {
    "collapsed": false
   },
   "outputs": [
    {
     "data": {
      "text/plain": [
       "\u001b[36mintervalsDim0\u001b[39m: \u001b[32mArray\u001b[39m[\u001b[32mArray\u001b[39m[\u001b[32mDouble\u001b[39m]] = \u001b[32m<lazy>\u001b[39m"
      ]
     },
     "execution_count": 9,
     "metadata": {},
     "output_type": "execute_result"
    }
   ],
   "source": [
    "lazy val intervalsDim0 = BarcodeUtility.getEndpoints(intervals, 1, false)"
   ]
  },
  {
   "cell_type": "markdown",
   "metadata": {
    "collapsed": true
   },
   "source": [
    "### Vietoris-Rips from point cloud"
   ]
  },
  {
   "cell_type": "code",
   "execution_count": 10,
   "metadata": {
    "collapsed": false
   },
   "outputs": [
    {
     "data": {
      "text/plain": [
       "\u001b[36mpointCloud\u001b[39m: \u001b[32mArray\u001b[39m[\u001b[32mArray\u001b[39m[\u001b[32mDouble\u001b[39m]] = \u001b[32m<lazy>\u001b[39m\n",
       "\u001b[36mhouseMetricSpace\u001b[39m: \u001b[32mmetric\u001b[39m.\u001b[32mimpl\u001b[39m.\u001b[32mEuclideanMetricSpace\u001b[39m = \u001b[32m<lazy>\u001b[39m\n",
       "\u001b[36mmaxDimension\u001b[39m: \u001b[32mInt\u001b[39m = \u001b[32m<lazy>\u001b[39m\n",
       "\u001b[36mmaxFiltrationValue\u001b[39m: \u001b[32mDouble\u001b[39m = \u001b[32m<lazy>\u001b[39m\n",
       "\u001b[36mnumDivisions\u001b[39m: \u001b[32mInt\u001b[39m = \u001b[32m<lazy>\u001b[39m\n",
       "\u001b[36mvietorisRipsStream\u001b[39m: \u001b[32mstreams\u001b[39m.\u001b[32mimpl\u001b[39m.\u001b[32mVietorisRipsStream\u001b[39m[\u001b[32mArray\u001b[39m[\u001b[32mDouble\u001b[39m]] = \u001b[32m<lazy>\u001b[39m\n",
       "\u001b[36mhouseImgs\u001b[39m: \u001b[32mList\u001b[39m[\u001b[32mjava\u001b[39m.\u001b[32mawt\u001b[39m.\u001b[32mimage\u001b[39m.\u001b[32mBufferedImage\u001b[39m] = \u001b[32m<lazy>\u001b[39m"
      ]
     },
     "execution_count": 10,
     "metadata": {},
     "output_type": "execute_result"
    }
   ],
   "source": [
    "lazy val pointCloud = examples.PointCloudExamples.getHouseExample()\n",
    "lazy val houseMetricSpace= new metric.impl.EuclideanMetricSpace(pointCloud)\n",
    "\n",
    "lazy val (maxDimension, maxFiltrationValue, numDivisions)= (3, 4.0, 100)\n",
    "\n",
    "lazy val vietorisRipsStream = api.Plex4.createVietorisRipsStream(\n",
    "  houseMetricSpace,\n",
    "  maxDimension,\n",
    "  maxFiltrationValue,\n",
    "  numDivisions)\n",
    "\n",
    "\n",
    "lazy val (_, houseImgs) = intervalsWithImages(vietorisRipsStream, maxDimension, maxFiltrationValue, persistence)"
   ]
  },
  {
   "cell_type": "code",
   "execution_count": 11,
   "metadata": {
    "collapsed": false
   },
   "outputs": [
    {
     "data": {
      "image/png": "[encoded data removed]"
     },
     "metadata": {},
     "output_type": "display_data"
    },
    {
     "data": {
      "image/png": "[encoded data removed]"
     },
     "metadata": {},
     "output_type": "display_data"
    }
   ],
   "source": [
    "drawBarcodes(houseImgs)"
   ]
  },
  {
   "cell_type": "markdown",
   "metadata": {},
   "source": [
    "## Torus homology "
   ]
  },
  {
   "cell_type": "code",
   "execution_count": 12,
   "metadata": {
    "collapsed": false
   },
   "outputs": [
    {
     "data": {
      "text/plain": [
       "\u001b[36mtorusData\u001b[39m: \u001b[32mDenseMatrix\u001b[39m[\u001b[32mDouble\u001b[39m] = \u001b[32m<lazy>\u001b[39m\n",
       "\u001b[36mtorusDataArray\u001b[39m: \u001b[32mArray\u001b[39m[\u001b[32mArray\u001b[39m[\u001b[32mDouble\u001b[39m]] = \u001b[32m<lazy>\u001b[39m\n",
       "\u001b[36mmaxDimension\u001b[39m: \u001b[32mInt\u001b[39m = \u001b[32m<lazy>\u001b[39m\n",
       "\u001b[36mmaxFiltrationValue\u001b[39m: \u001b[32mDouble\u001b[39m = \u001b[32m<lazy>\u001b[39m\n",
       "\u001b[36mnumDivisions\u001b[39m: \u001b[32mInt\u001b[39m = \u001b[32m<lazy>\u001b[39m\n",
       "\u001b[36mtorusStream\u001b[39m: \u001b[32mstreams\u001b[39m.\u001b[32mimpl\u001b[39m.\u001b[32mVietorisRipsStream\u001b[39m[\u001b[32mArray\u001b[39m[\u001b[32mDouble\u001b[39m]] = \u001b[32m<lazy>\u001b[39m\n",
       "\u001b[36mtorusImages\u001b[39m: \u001b[32mList\u001b[39m[\u001b[32mjava\u001b[39m.\u001b[32mawt\u001b[39m.\u001b[32mimage\u001b[39m.\u001b[32mBufferedImage\u001b[39m] = \u001b[32m<lazy>\u001b[39m"
      ]
     },
     "execution_count": 12,
     "metadata": {},
     "output_type": "execute_result"
    }
   ],
   "source": [
    "lazy val torusData = csvread(importer.loadData(\"pointsTorusGrid.csv\"))\n",
    "\n",
    "lazy val torusDataArray = JavaArrayOps.dmDToArray2(torusData)\n",
    "\n",
    "lazy val (maxDimension, maxFiltrationValue, numDivisions) = (3, 0.9, 100)\n",
    "\n",
    "lazy val torusStream = Plex4.createVietorisRipsStream(torusDataArray, maxDimension, maxFiltrationValue, numDivisions)\n",
    "\n",
    "lazy val (_, torusImages) = intervalsWithImages(torusStream, maxDimension, maxFiltrationValue, persistence)"
   ]
  },
  {
   "cell_type": "code",
   "execution_count": 13,
   "metadata": {
    "collapsed": false
   },
   "outputs": [
    {
     "name": "stdout",
     "output_type": "stream",
     "text": [
      "TorusStream for\n",
      "maxFiltrationValue = 0.9\n",
      "has 82479 simplices\n"
     ]
    }
   ],
   "source": [
    "println(Seq(\n",
    "  \"TorusStream for\",\n",
    "  s\"maxFiltrationValue = ${maxFiltrationValue}\",\n",
    "  s\"has ${torusStream.getSize()} simplices\").mkString(\"\\n\"))"
   ]
  },
  {
   "cell_type": "code",
   "execution_count": 14,
   "metadata": {
    "collapsed": false
   },
   "outputs": [
    {
     "data": {
      "image/png": "[encoded data removed]"
     },
     "metadata": {},
     "output_type": "display_data"
    },
    {
     "data": {
      "image/png": "[encoded data removed]"
     },
     "metadata": {},
     "output_type": "display_data"
    },
    {
     "data": {
      "image/png": "[encoded data removed]"
     },
     "metadata": {},
     "output_type": "display_data"
    }
   ],
   "source": [
    "drawBarcodes(torusImages)"
   ]
  },
  {
   "cell_type": "markdown",
   "metadata": {},
   "source": [
    "## Torus homology with landmarks "
   ]
  },
  {
   "cell_type": "markdown",
   "metadata": {},
   "source": [
    "We select 50 samples using sequential maxmin.\n",
    "\n",
    "```\n",
    "sequentialMaxMin(X, N)\n",
    "    L = {}\n",
    "    pick random l0 from X\n",
    "    L = {l0}\n",
    "    while L's size < N\n",
    "        l = argmax d(x, L)\n",
    "        add l to L\n",
    "    return L\n",
    "```"
   ]
  },
  {
   "cell_type": "code",
   "execution_count": 25,
   "metadata": {
    "collapsed": false
   },
   "outputs": [
    {
     "data": {
      "text/plain": [
       "\u001b[36mnoLandmarkPoints\u001b[39m: \u001b[32mInt\u001b[39m = \u001b[32m<lazy>\u001b[39m"
      ]
     },
     "execution_count": 25,
     "metadata": {},
     "output_type": "execute_result"
    }
   ],
   "source": [
    "lazy val noLandmarkPoints = 50 \n"
   ]
  },
  {
   "cell_type": "code",
   "execution_count": 26,
   "metadata": {
    "collapsed": false
   },
   "outputs": [
    {
     "data": {
      "text/plain": [
       "\u001b[36mlandmarkIndices\u001b[39m: \u001b[32mArray\u001b[39m[\u001b[32mInt\u001b[39m] = \u001b[32m<lazy>\u001b[39m\n",
       "\u001b[36mtorusLandmarks\u001b[39m: \u001b[32mArray\u001b[39m[\u001b[32mArray\u001b[39m[\u001b[32mDouble\u001b[39m]] = \u001b[32m<lazy>\u001b[39m\n",
       "\u001b[36mtorusLandmarksStream\u001b[39m: \u001b[32mstreams\u001b[39m.\u001b[32mimpl\u001b[39m.\u001b[32mVietorisRipsStream\u001b[39m[\u001b[32mArray\u001b[39m[\u001b[32mDouble\u001b[39m]] = \u001b[32m<lazy>\u001b[39m\n",
       "\u001b[36mtoruslandmarkImages\u001b[39m: \u001b[32mList\u001b[39m[\u001b[32mjava\u001b[39m.\u001b[32mawt\u001b[39m.\u001b[32mimage\u001b[39m.\u001b[32mBufferedImage\u001b[39m] = \u001b[32m<lazy>\u001b[39m"
      ]
     },
     "execution_count": 26,
     "metadata": {},
     "output_type": "execute_result"
    }
   ],
   "source": [
    "lazy val landmarkIndices = Plex4\n",
    "  .createMaxMinSelector(torusDataArray, noLandmarkPoints)\n",
    "  .getLandmarkPoints()\n",
    "\n",
    "lazy val torusLandmarks = landmarkIndices.map(torusDataArray(_))\n",
    "\n",
    "lazy val torusLandmarksStream = Plex4.createVietorisRipsStream(torusLandmarks, maxDimension, landmarkMaxFiltrationValue, numDivisions)\n",
    "\n",
    "lazy val (_, toruslandmarkImages) = intervalsWithImages(torusLandmarksStream, maxDimension, landmarkMaxFiltrationValue, persistence)"
   ]
  },
  {
   "cell_type": "code",
   "execution_count": 30,
   "metadata": {
    "collapsed": false
   },
   "outputs": [
    {
     "name": "stdout",
     "output_type": "stream",
     "text": [
      "LandmarksTorusStream for 50 landmarks\n",
      "landmarkMaxFiltrationValue = 1.8 = 2.0 * maxFiltrationValue\n",
      "has 2604 simplices\n",
      "(31x less than original stream)\n"
     ]
    }
   ],
   "source": [
    "println(Seq(\n",
    "  s\"LandmarksTorusStream for ${torusLandmarks.size} landmarks\",\n",
    "  s\"landmarkMaxFiltrationValue = ${landmarkMaxFiltrationValue} = ${landmarkMaxFiltrationValue / maxFiltrationValue} * maxFiltrationValue\",\n",
    "  s\"has ${torusLandmarksStream.getSize()} simplices\",\n",
    "  s\"(${torusStream.getSize() / torusLandmarksStream.getSize()}x less than original stream)\").mkString(\"\\n\"))"
   ]
  },
  {
   "cell_type": "markdown",
   "metadata": {},
   "source": [
    "As we can see, landmark complex has order of magnitude less simplices.\n",
    "\n",
    "Comparing barcodes of original and reduced complex we see that landmark complex has less small intervals, but true torus intervals are present - sampling by maxmin can be thought as a denoising procedure."
   ]
  },
  {
   "cell_type": "code",
   "execution_count": 29,
   "metadata": {
    "collapsed": false
   },
   "outputs": [
    {
     "data": {
      "image/png": "[encoded data removed]"
     },
     "metadata": {},
     "output_type": "display_data"
    },
    {
     "data": {
      "image/png": "[encoded data removed]"
     },
     "metadata": {},
     "output_type": "display_data"
    },
    {
     "data": {
      "image/png": "[encoded data removed]"
     },
     "metadata": {},
     "output_type": "display_data"
    }
   ],
   "source": [
    "drawBarcodes(toruslandmarkImages)"
   ]
  }
 ],
 "metadata": {
  "anaconda-cloud": {},
  "hide_input": false,
  "kernelspec": {
   "display_name": "Scala",
   "language": "scala",
   "name": "scala"
  },
  "language_info": {
   "codemirror_mode": "text/x-scala",
   "file_extension": ".scala",
   "mimetype": "text/x-scala",
   "name": "scala211",
   "nbconvert_exporter": "scala",
   "pygments_lexer": "scala",
   "version": "2.11.8"
  }
 },
 "nbformat": 4,
 "nbformat_minor": 0
}
