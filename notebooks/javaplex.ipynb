{
 "cells": [
  {
   "cell_type": "code",
   "execution_count": 33,
   "metadata": {
    "collapsed": false
   },
   "outputs": [
    {
     "data": {
      "text/plain": [
       "\u001b[32mimport \u001b[39m\u001b[36mammonite.ops._\n",
       "\n",
       "\u001b[39m\n",
       "\u001b[32mimport \u001b[39m\u001b[36m$ivy.$                           \n",
       "\u001b[39m\n",
       "\u001b[32mimport \u001b[39m\u001b[36m$ivy.$                              \n",
       "\u001b[39m\n",
       "\u001b[32mimport \u001b[39m\u001b[36m$ivy.$                                      \n",
       "\n",
       "\u001b[39m\n",
       "\u001b[36mp\u001b[39m: \u001b[32mPath\u001b[39m = /home/kuba/Software/javaplex-4.2.5.jar"
      ]
     },
     "execution_count": 33,
     "metadata": {},
     "output_type": "execute_result"
    }
   ],
   "source": [
    "import ammonite.ops._\n",
    "\n",
    "import $ivy.`org.slf4j:slf4j-api:1.7.21`\n",
    "import $ivy.`org.scalanlp:breeze_2.11:0.12`\n",
    "import $ivy.`org.scalanlp:breeze-natives_2.11:0.12`\n",
    "\n",
    "val p = Path(\"/home\") / \"kuba\" / \"Software\" / \"javaplex-4.2.5.jar\"\n",
    "interp.load.cp(p)"
   ]
  },
  {
   "cell_type": "code",
   "execution_count": 38,
   "metadata": {
    "collapsed": false
   },
   "outputs": [
    {
     "data": {
      "text/plain": [
       "\u001b[32mimport \u001b[39m\u001b[36mscala.collection.JavaConverters._\n",
       "\u001b[39m\n",
       "\u001b[32mimport \u001b[39m\u001b[36medu.stanford.math.plex4._\n",
       "\u001b[39m\n",
       "\u001b[32mimport \u001b[39m\u001b[36medu.stanford.math.plex4.api._\n",
       "\u001b[39m\n",
       "\u001b[32mimport \u001b[39m\u001b[36medu.stanford.math.plex4.visualization._\n",
       "\u001b[39m\n",
       "\u001b[32mimport \u001b[39m\u001b[36medu.stanford.math.plex4.homology.barcodes._\n",
       "\n",
       "\u001b[39m\n",
       "\u001b[32mimport \u001b[39m\u001b[36mjavax.imageio.ImageIO\n",
       "\u001b[39m\n",
       "\u001b[32mimport \u001b[39m\u001b[36mjava.io.File\n",
       "\n",
       "\u001b[39m\n",
       "\u001b[32mimport \u001b[39m\u001b[36mbreeze.linalg._\n",
       "\u001b[39m\n",
       "\u001b[32mimport \u001b[39m\u001b[36mbreeze.linalg.functions._\n",
       "\u001b[39m\n",
       "\u001b[32mimport \u001b[39m\u001b[36mbreeze.linalg._\n",
       "\u001b[39m\n",
       "\u001b[32mimport \u001b[39m\u001b[36mbreeze.math._\n",
       "\u001b[39m\n",
       "\u001b[32mimport \u001b[39m\u001b[36mbreeze.numerics._\n",
       "\u001b[39m\n",
       "\u001b[32mimport \u001b[39m\u001b[36mbreeze.util.JavaArrayOps\u001b[39m"
      ]
     },
     "execution_count": 38,
     "metadata": {},
     "output_type": "execute_result"
    }
   ],
   "source": [
    "import scala.collection.JavaConverters._\n",
    "import edu.stanford.math.plex4._\n",
    "import edu.stanford.math.plex4.api._\n",
    "import edu.stanford.math.plex4.visualization._\n",
    "import edu.stanford.math.plex4.homology.barcodes._\n",
    "\n",
    "import javax.imageio.ImageIO\n",
    "import java.io.File\n",
    "\n",
    "import breeze.linalg._\n",
    "import breeze.linalg.functions._\n",
    "import breeze.linalg._\n",
    "import breeze.math._\n",
    "import breeze.numerics._\n",
    "import breeze.util.JavaArrayOps"
   ]
  },
  {
   "cell_type": "code",
   "execution_count": 92,
   "metadata": {
    "collapsed": false
   },
   "outputs": [
    {
     "data": {
      "text/plain": [
       "defined \u001b[32mfunction\u001b[39m \u001b[36mbarcodeImages\u001b[39m"
      ]
     },
     "execution_count": 92,
     "metadata": {},
     "output_type": "execute_result"
    }
   ],
   "source": [
    "def barcodeImages(intervals: BarcodeCollection[java.lang.Double]) = {\n",
    "  val intervalsPerDimension = intervals.getIntervalIterator.asScala.map(x => (x.getKey, x.getValue))toList\n",
    "  val imgs = intervalsPerDimension map { case (dim, intervals) =>\n",
    "    (dim, BarcodeVisualizer.drawBarcode(intervals, s\"dimension ${dim}\", maxFiltrationValue))\n",
    "  }\n",
    "  imgs\n",
    "}"
   ]
  },
  {
   "cell_type": "code",
   "execution_count": 19,
   "metadata": {
    "collapsed": false
   },
   "outputs": [
    {
     "data": {
      "text/plain": [
       "\u001b[36mstream\u001b[39m: \u001b[32mstreams\u001b[39m.\u001b[32mimpl\u001b[39m.\u001b[32mExplicitSimplexStream\u001b[39m = edu.stanford.math.plex4.streams.impl.ExplicitSimplexStream@123d8a96\n",
       "\u001b[36mres18_8\u001b[39m: \u001b[32mInt\u001b[39m = \u001b[32m6\u001b[39m"
      ]
     },
     "execution_count": 19,
     "metadata": {},
     "output_type": "execute_result"
    }
   ],
   "source": [
    "val stream = Plex4.createExplicitSimplexStream()\n",
    "\n",
    "stream.addVertex(0)\n",
    "stream.addVertex(1)\n",
    "stream.addVertex(2)\n",
    "stream.addElement(Array(0, 1))\n",
    "stream.addElement(Array(0, 2))\n",
    "stream.addElement(Array(1,2))\n",
    "stream.finalizeStream()\n",
    "\n",
    "stream.getSize"
   ]
  },
  {
   "cell_type": "code",
   "execution_count": 20,
   "metadata": {
    "collapsed": false
   },
   "outputs": [
    {
     "data": {
      "text/plain": [
       "\u001b[36mpersistence\u001b[39m: \u001b[32mhomology\u001b[39m.\u001b[32minterfaces\u001b[39m.\u001b[32mAbstractPersistenceAlgorithm\u001b[39m[\u001b[32mhomology\u001b[39m.\u001b[32mchain_basis\u001b[39m.\u001b[32mSimplex\u001b[39m] = edu.stanford.math.plex4.autogen.homology.IntAbsoluteHomology@4b3230f5\n",
       "\u001b[36mcircleIntervals\u001b[39m: \u001b[32mBarcodeCollection\u001b[39m[\u001b[32mInteger\u001b[39m] = Dimension: 0\n",
       "[0, infinity)\n",
       "Dimension: 1\n",
       "[0, infinity)\n"
      ]
     },
     "execution_count": 20,
     "metadata": {},
     "output_type": "execute_result"
    }
   ],
   "source": [
    "val persistence = Plex4.getModularSimplicialAlgorithm(3, 2)\n",
    "val circleIntervals = persistence.computeIndexIntervals(stream)\n"
   ]
  },
  {
   "cell_type": "markdown",
   "metadata": {},
   "source": [
    "## 9 - sphere "
   ]
  },
  {
   "cell_type": "code",
   "execution_count": 31,
   "metadata": {
    "collapsed": false
   },
   "outputs": [
    {
     "data": {
      "text/plain": [
       "\u001b[36mdimension\u001b[39m: \u001b[32mInt\u001b[39m = \u001b[32m9\u001b[39m\n",
       "\u001b[36mstream\u001b[39m: \u001b[32mstreams\u001b[39m.\u001b[32mimpl\u001b[39m.\u001b[32mExplicitSimplexStream\u001b[39m = edu.stanford.math.plex4.streams.impl.ExplicitSimplexStream@77a154bc\n",
       "\u001b[36mres30_4\u001b[39m: \u001b[32mBoolean\u001b[39m = \u001b[32mtrue\u001b[39m\n",
       "\u001b[36mpersistence9\u001b[39m: \u001b[32mhomology\u001b[39m.\u001b[32minterfaces\u001b[39m.\u001b[32mAbstractPersistenceAlgorithm\u001b[39m[\u001b[32mhomology\u001b[39m.\u001b[32mchain_basis\u001b[39m.\u001b[32mSimplex\u001b[39m] = edu.stanford.math.plex4.autogen.homology.IntAbsoluteHomology@211e3ce3"
      ]
     },
     "execution_count": 31,
     "metadata": {},
     "output_type": "execute_result"
    }
   ],
   "source": [
    "val dimension = 9\n",
    "val stream = Plex4.createExplicitSimplexStream()\n",
    "stream.addElement(0 to (dimension + 1) toArray)\n",
    "stream.ensureAllFaces()\n",
    "stream.removeElementIfPresent(0 to (dimension + 1) toArray)\n",
    "stream.finalizeStream()\n",
    "\n",
    "val persistence9 = Plex4.getModularSimplicialAlgorithm(dimension + 1, 2)"
   ]
  },
  {
   "cell_type": "code",
   "execution_count": 93,
   "metadata": {
    "collapsed": false
   },
   "outputs": [
    {
     "data": {
      "image/png": "[encoded data removed]"
     },
     "metadata": {},
     "output_type": "display_data"
    },
    {
     "data": {
      "text/plain": [
       "\u001b[36mintervals9\u001b[39m: \u001b[32mBarcodeCollection\u001b[39m[\u001b[32mjava\u001b[39m.\u001b[32mlang\u001b[39m.\u001b[32mDouble\u001b[39m] = Dimension: 0\n",
       "[0.0, infinity)\n"
      ]
     },
     "execution_count": 93,
     "metadata": {},
     "output_type": "execute_result"
    }
   ],
   "source": [
    "val intervals9 = persistence.computeIntervals(stream)\n",
    "\n",
    "barcodeImages(intervals9) foreach { case (dim, img) => publish.png(img) }"
   ]
  },
  {
   "cell_type": "markdown",
   "metadata": {},
   "source": [
    "# House"
   ]
  },
  {
   "cell_type": "markdown",
   "metadata": {},
   "source": [
    "### Explicit stream"
   ]
  },
  {
   "cell_type": "code",
   "execution_count": 24,
   "metadata": {
    "collapsed": false
   },
   "outputs": [
    {
     "data": {
      "text/plain": [
       "\u001b[36mhouseStream\u001b[39m: \u001b[32mstreams\u001b[39m.\u001b[32mimpl\u001b[39m.\u001b[32mExplicitSimplexStream\u001b[39m = edu.stanford.math.plex4.streams.impl.ExplicitSimplexStream@3da38483"
      ]
     },
     "execution_count": 24,
     "metadata": {},
     "output_type": "execute_result"
    }
   ],
   "source": [
    "val houseStream = Plex4.createExplicitSimplexStream();\n",
    "houseStream.addVertex(1, 0);\n",
    "houseStream.addVertex(2, 0);\n",
    "houseStream.addVertex(3, 0);\n",
    "houseStream.addVertex(4, 0);\n",
    "houseStream.addVertex(5, 1);\n",
    "houseStream.addElement(Array(1, 2), 0);\n",
    "houseStream.addElement(Array(2,3), 0);\n",
    "houseStream.addElement(Array(3, 4), 0);\n",
    "houseStream.addElement(Array(4, 1), 0);\n",
    "houseStream.addElement(Array(3, 5), 2);\n",
    "houseStream.addElement(Array(4, 5), 3);\n",
    "houseStream.addElement(Array(3, 4, 5), 7);\n",
    "houseStream.finalizeStream()"
   ]
  },
  {
   "cell_type": "code",
   "execution_count": 25,
   "metadata": {
    "collapsed": false
   },
   "outputs": [
    {
     "data": {
      "text/plain": [
       "\u001b[36mintervals\u001b[39m: \u001b[32mBarcodeCollection\u001b[39m[\u001b[32mjava\u001b[39m.\u001b[32mlang\u001b[39m.\u001b[32mDouble\u001b[39m] = Dimension: 0\n",
       "[1.0, 2.0)\n",
       "[0.0, infinity)\n",
       "Dimension: 1\n",
       "[3.0, 7.0)\n",
       "[0.0, infinity)\n",
       "\n",
       "\u001b[36mactualIntervals\u001b[39m: \u001b[32mList\u001b[39m[\u001b[32mjava\u001b[39m.\u001b[32mutil\u001b[39m.\u001b[32mList\u001b[39m[\u001b[32mInterval\u001b[39m[\u001b[32mjava\u001b[39m.\u001b[32mlang\u001b[39m.\u001b[32mDouble\u001b[39m]]] = \u001b[33mList\u001b[39m([[1.0, 2.0), [0.0, infinity)], [[3.0, 7.0), [0.0, infinity)])\n",
       "\u001b[36mres24_2\u001b[39m: \u001b[32mInt\u001b[39m = \u001b[32m2\u001b[39m"
      ]
     },
     "execution_count": 25,
     "metadata": {},
     "output_type": "execute_result"
    }
   ],
   "source": [
    "val intervals = persistence.computeIntervals(houseStream)\n",
    "val actualIntervals = intervals.getIntervalIterator.asScala.map(_.getValue).toList\n",
    "actualIntervals.length"
   ]
  },
  {
   "cell_type": "code",
   "execution_count": 26,
   "metadata": {
    "collapsed": false
   },
   "outputs": [
    {
     "data": {
      "text/plain": [
       "\u001b[36mintervalsDim0\u001b[39m: \u001b[32mArray\u001b[39m[\u001b[32mArray\u001b[39m[\u001b[32mDouble\u001b[39m]] = \u001b[33mArray\u001b[39m(\u001b[33mArray\u001b[39m(\u001b[32m0.0\u001b[39m, \u001b[32mInfinity\u001b[39m), \u001b[33mArray\u001b[39m(\u001b[32m3.0\u001b[39m, \u001b[32m7.0\u001b[39m))"
      ]
     },
     "execution_count": 26,
     "metadata": {},
     "output_type": "execute_result"
    }
   ],
   "source": [
    "val intervalsDim0 = BarcodeUtility.getEndpoints(intervals, 1, false) "
   ]
  },
  {
   "cell_type": "markdown",
   "metadata": {
    "collapsed": true
   },
   "source": [
    "### Vietoris-Rips from point cloud"
   ]
  },
  {
   "cell_type": "code",
   "execution_count": 80,
   "metadata": {
    "collapsed": false
   },
   "outputs": [
    {
     "data": {
      "text/plain": [
       "\u001b[36mpointCloud\u001b[39m: \u001b[32mArray\u001b[39m[\u001b[32mArray\u001b[39m[\u001b[32mDouble\u001b[39m]] = \u001b[33mArray\u001b[39m(\n",
       "  \u001b[33mArray\u001b[39m(\u001b[32m-1.0\u001b[39m, \u001b[32m0.0\u001b[39m),\n",
       "  \u001b[33mArray\u001b[39m(\u001b[32m1.0\u001b[39m, \u001b[32m0.0\u001b[39m),\n",
       "  \u001b[33mArray\u001b[39m(\u001b[32m1.0\u001b[39m, \u001b[32m2.0\u001b[39m),\n",
       "  \u001b[33mArray\u001b[39m(\u001b[32m-1.0\u001b[39m, \u001b[32m2.0\u001b[39m),\n",
       "  \u001b[33mArray\u001b[39m(\u001b[32m0.0\u001b[39m, \u001b[32m3.0\u001b[39m)\n",
       ")\n",
       "\u001b[36mhouseMetricSpace\u001b[39m: \u001b[32mmetric\u001b[39m.\u001b[32mimpl\u001b[39m.\u001b[32mEuclideanMetricSpace\u001b[39m = edu.stanford.math.plex4.metric.impl.EuclideanMetricSpace@4e53e920\n",
       "\u001b[36mmaxDimension\u001b[39m: \u001b[32mInt\u001b[39m = \u001b[32m3\u001b[39m\n",
       "\u001b[36mmaxFiltrationValue\u001b[39m: \u001b[32mDouble\u001b[39m = \u001b[32m4.0\u001b[39m\n",
       "\u001b[36mnumDivisions\u001b[39m: \u001b[32mInt\u001b[39m = \u001b[32m100\u001b[39m\n",
       "\u001b[36mvietorisRipsStream\u001b[39m: \u001b[32mstreams\u001b[39m.\u001b[32mimpl\u001b[39m.\u001b[32mVietorisRipsStream\u001b[39m[\u001b[32mArray\u001b[39m[\u001b[32mDouble\u001b[39m]] = edu.stanford.math.plex4.streams.impl.VietorisRipsStream@7efc8440\n",
       "\u001b[36mhouseIntervals\u001b[39m: \u001b[32mBarcodeCollection\u001b[39m[\u001b[32mjava\u001b[39m.\u001b[32mlang\u001b[39m.\u001b[32mDouble\u001b[39m] = Dimension: 0\n",
       "[0.0, 1.4000000000000001)\n",
       "[0.0, 1.4000000000000001)\n",
       "[0.0, 2.0)\n",
       "[0.0, 2.0)\n",
       "[0.0, infinity)\n",
       "Dimension: 1\n",
       "[2.0, 2.8000000000000003)\n"
      ]
     },
     "execution_count": 80,
     "metadata": {},
     "output_type": "execute_result"
    }
   ],
   "source": [
    "val pointCloud = examples.PointCloudExamples.getHouseExample()\n",
    "val houseMetricSpace= new metric.impl.EuclideanMetricSpace(pointCloud)\n",
    "\n",
    "val (maxDimension, maxFiltrationValue, numDivisions)= (3, 4.0, 100)\n",
    "\n",
    "val vietorisRipsStream = api.Plex4.createVietorisRipsStream(\n",
    "  houseMetricSpace,\n",
    "  maxDimension,\n",
    "  maxFiltrationValue,\n",
    "  numDivisions)\n",
    "\n",
    "val houseIntervals = persistence.computeIntervals(vietorisRipsStream)"
   ]
  },
  {
   "cell_type": "code",
   "execution_count": 85,
   "metadata": {
    "collapsed": false,
    "scrolled": true
   },
   "outputs": [
    {
     "data": {
      "image/png": "[encoded data removed]"
     },
     "metadata": {},
     "output_type": "display_data"
    },
    {
     "data": {
      "image/png": "[encoded data removed]"
     },
     "metadata": {},
     "output_type": "display_data"
    },
    {
     "data": {
      "text/plain": [
       "\u001b[36mhouseImgs\u001b[39m: \u001b[32mList\u001b[39m[(\u001b[32mInteger\u001b[39m, \u001b[32mjava\u001b[39m.\u001b[32mawt\u001b[39m.\u001b[32mimage\u001b[39m.\u001b[32mBufferedImage\u001b[39m)] = \u001b[33mList\u001b[39m(\n",
       "  (\n",
       "    0,\n",
       "    BufferedImage@42483860: type = 5 ColorModel: #pixelBits = 24 numComponents = 3 color space = java.awt.color.ICC_ColorSpace@46e228e4 transparency = 1 has alpha = false isAlphaPre = false ByteInterleavedRaster: width = 600 height = 88 #numDataElements 3 dataOff[0] = 2\n",
       "  ),\n",
       "  (\n",
       "    1,\n",
       "    BufferedImage@22962612: type = 5 ColorModel: #pixelBits = 24 numComponents = 3 color space = java.awt.color.ICC_ColorSpace@46e228e4 transparency = 1 has alp\u001b[33m...\u001b[39m"
      ]
     },
     "execution_count": 85,
     "metadata": {},
     "output_type": "execute_result"
    }
   ],
   "source": [
    "val houseImgs = barcodeImages(houseIntervals)\n",
    "houseImgs.foreach { case (dim, img) => publish.png(img) }"
   ]
  },
  {
   "cell_type": "markdown",
   "metadata": {},
   "source": [
    "## Torus homology "
   ]
  },
  {
   "cell_type": "code",
   "execution_count": 127,
   "metadata": {
    "collapsed": false
   },
   "outputs": [
    {
     "ename": "",
     "evalue": "",
     "output_type": "error",
     "traceback": [
      "\u001b[31mjava.lang.NumberFormatException: For input string: \"MATLAB 5.0 MAT-file\"\u001b[39m",
      "  sun.misc.FloatingDecimal.readJavaFormatString(\u001b[32mFloatingDecimal.java\u001b[39m:\u001b[32m2043\u001b[39m)",
      "  sun.misc.FloatingDecimal.parseDouble(\u001b[32mFloatingDecimal.java\u001b[39m:\u001b[32m110\u001b[39m)",
      "  java.lang.Double.parseDouble(\u001b[32mDouble.java\u001b[39m:\u001b[32m538\u001b[39m)",
      "  scala.collection.immutable.StringLike$class.toDouble(\u001b[32mStringLike.scala\u001b[39m:\u001b[32m284\u001b[39m)",
      "  scala.collection.immutable.StringOps.toDouble(\u001b[32mStringOps.scala\u001b[39m:\u001b[32m29\u001b[39m)",
      "  breeze.linalg.package$$anonfun$csvread$1.apply$mcDII$sp(\u001b[32mpackage.scala\u001b[39m:\u001b[32m82\u001b[39m)",
      "  breeze.linalg.MatrixConstructors$$anonfun$tabulate$mDc$sp$1$$anonfun$apply$mcVI$sp$2.apply$mcVI$sp(\u001b[32mMatrix.scala\u001b[39m:\u001b[32m229\u001b[39m)",
      "  scala.collection.immutable.Range.foreach$mVc$sp(\u001b[32mRange.scala\u001b[39m:\u001b[32m160\u001b[39m)",
      "  breeze.linalg.MatrixConstructors$$anonfun$tabulate$mDc$sp$1.apply$mcVI$sp(\u001b[32mMatrix.scala\u001b[39m:\u001b[32m228\u001b[39m)",
      "  scala.collection.immutable.Range.foreach$mVc$sp(\u001b[32mRange.scala\u001b[39m:\u001b[32m160\u001b[39m)",
      "  breeze.linalg.MatrixConstructors$class.tabulate$mDc$sp(\u001b[32mMatrix.scala\u001b[39m:\u001b[32m228\u001b[39m)",
      "  breeze.linalg.DenseMatrix$.tabulate$mDc$sp(\u001b[32mDenseMatrix.scala\u001b[39m:\u001b[32m333\u001b[39m)",
      "  breeze.linalg.package$.csvread(\u001b[32mpackage.scala\u001b[39m:\u001b[32m82\u001b[39m)",
      "  $sess.cmd126Wrapper$Helper.<init>(\u001b[32mcmd126.sc\u001b[39m:\u001b[32m1\u001b[39m)",
      "  $sess.cmd126Wrapper.<init>(\u001b[32mcmd126.sc\u001b[39m:\u001b[32m1248\u001b[39m)",
      "  $sess.cmd126$.<init>(\u001b[32mcmd126.sc\u001b[39m:\u001b[32m861\u001b[39m)",
      "  $sess.cmd126$.<clinit>(\u001b[32mcmd126.sc\u001b[39m:\u001b[32m-1\u001b[39m)"
     ]
    }
   ],
   "source": [
    "val torusAllData = csvread(new File(\"data/pointsTorusGrid.mat\"))\n"
   ]
  },
  {
   "cell_type": "markdown",
   "metadata": {},
   "source": [
    "## Iris homology "
   ]
  },
  {
   "cell_type": "code",
   "execution_count": 47,
   "metadata": {
    "collapsed": false
   },
   "outputs": [
    {
     "data": {
      "text/plain": [
       "\u001b[36mirisAllData\u001b[39m: \u001b[32mDenseMatrix\u001b[39m[\u001b[32mDouble\u001b[39m] = 5.1  3.5  1.4  0.2  1.0  \n",
       "4.9  3.0  1.4  0.2  1.0  \n",
       "4.7  3.2  1.3  0.2  1.0  \n",
       "4.6  3.1  1.5  0.2  1.0  \n",
       "5.0  3.6  1.4  0.2  1.0  \n",
       "5.4  3.9  1.7  0.4  1.0  \n",
       "4.6  3.4  1.4  0.3  1.0  \n",
       "5.0  3.4  1.5  0.2  1.0  \n",
       "4.4  2.9  1.4  0.2  1.0  \n",
       "4.9  3.1  1.5  0.1  1.0  \n",
       "5.4  3.7  1.5  0.2  1.0  \n",
       "4.8  3.4  1.6  0.2  1.0  \n",
       "\u001b[33m...\u001b[39m\n",
       "\u001b[36mirisData\u001b[39m: \u001b[32mDenseMatrix\u001b[39m[\u001b[32mDouble\u001b[39m] = 3.5  1.4  0.2  1.0  \n",
       "3.0  1.4  0.2  1.0  \n",
       "3.2  1.3  0.2  1.0  \n",
       "3.1  1.5  0.2  1.0  \n",
       "3.6  1.4  0.2  1.0  \n",
       "3.9  1.7  0.4  1.0  \n",
       "3.4  1.4  0.3  1.0  \n",
       "3.4  1.5  0.2  1.0  \n",
       "2.9  1.4  0.2  1.0  \n",
       "3.1  1.5  0.1  1.0  \n",
       "3.7  1.5  0.2  1.0  \n",
       "3.4  1.6  0.2  1.0  \n",
       "\u001b[33m...\u001b[39m\n",
       "\u001b[36mirisTarget\u001b[39m: \u001b[32mDenseVector\u001b[39m[\u001b[32mInt\u001b[39m] = DenseVector(1, 1, 1, 1, 1, 1, 1, 1, 1, 1, 1, 1, 1, 1, 1, 1, 1, 1, 1, 1, 1, 1, 1, 1, 1, 1, 1, 1, 1, 1, 1, 1, 1, 1, 1, 1, 1, 1, 1, 1, 1, 1, 1, 1, 1, 1, 1, 1, 1, 1, 2, 2, 2, 2, 2, 2, 2, 2, 2, 2, 2, 2, 2, 2, 2, 2, 2, 2, 2, 2, 2, 2, 2, 2, 2, 2, 2, 2, 2, 2, 2, 2, 2, 2, 2, 2, 2, 2, 2, 2, 2, 2, 2, 2, 2, 2, 2, 2, 2, 2, 3, 3, 3, 3, 3, 3, 3, 3, 3, 3, 3, 3, 3, 3, 3, 3, 3, 3, 3, 3, 3, 3, 3, 3, 3, 3, 3, 3, 3, 3, 3, 3, 3, 3, 3, 3, 3, 3, 3, 3, 3, 3, 3, 3, 3, 3, 3, 3, 3, 3)\n",
       "defined \u001b[32mfunction\u001b[39m \u001b[36mdist\u001b[39m\n",
       "\u001b[36mirisDist\u001b[39m: \u001b[32mDenseMatrix\u001b[39m[\u001b[32mDouble\u001b[39m] = 0.0                   0.25                  ... (150 total)\n",
       "0.25                  0.0                   ...\n",
       "0.09999999999999787   0.04999999999999716   ...\n",
       "0.1700000000000017    0.019999999999999574  ...\n",
       "0.010000000000001563  0.35999999999999943   ...\n",
       "0.28999999999999737   0.9399999999999995    ...\n",
       "0.01999999999999602   0.16999999999999815   ...\n",
       "0.019999999999997797  0.16999999999999993   ...\n",
       "0.35999999999999943   0.010000000000001563  ...\n",
       "0.1800000000000015    0.02999999999999936   ...\n",
       "0.049999999999998934  0.4999999999999982    ...\n",
       "0.04999999999999716   0.1999999999999993    ...\n",
       "\u001b[33m...\u001b[39m\n",
       "\u001b[36mirisMetricSpace\u001b[39m: \u001b[32mmetric\u001b[39m.\u001b[32mimpl\u001b[39m.\u001b[32mEuclideanMetricSpace\u001b[39m = edu.stanford.math.plex4.metric.impl.EuclideanMetricSpace@3c2d217e"
      ]
     },
     "execution_count": 47,
     "metadata": {},
     "output_type": "execute_result"
    }
   ],
   "source": [
    "val irisAllData = csvread(new File(\"data/iris.csv\"))\n",
    "\n",
    "val irisData = allData(::, Range(1,5))\n",
    "val irisTarget = allData(::, 4).map(_.toInt)\n",
    "\n",
    "def dist(X: DenseMatrix[Double], Y: DenseMatrix[Double]): DenseMatrix[Double] = {\n",
    "  val XdotY = -2.0 * (X * Y.t)\n",
    "  val XdotX = diag(X * X.t)\n",
    "  val YdotY = diag(Y * Y.t)\n",
    "  val tmp1 =  XdotY(::, *) + XdotX\n",
    "  tmp1(*, ::) + YdotY\n",
    "}\n",
    "\n",
    "val irisDist = dist(irisData, irisData)\n"
   ]
  },
  {
   "cell_type": "code",
   "execution_count": 123,
   "metadata": {
    "collapsed": false
   },
   "outputs": [
    {
     "data": {
      "text/plain": [
       "\u001b[36mmaxDimension\u001b[39m: \u001b[32mInt\u001b[39m = \u001b[32m3\u001b[39m\n",
       "\u001b[36mmaxFiltrationValue\u001b[39m: \u001b[32mInt\u001b[39m = \u001b[32m10\u001b[39m\n",
       "\u001b[36mnumDivisions\u001b[39m: \u001b[32mInt\u001b[39m = \u001b[32m10\u001b[39m\n",
       "\u001b[36mirisStream\u001b[39m: \u001b[32mstreams\u001b[39m.\u001b[32mimpl\u001b[39m.\u001b[32mVietorisRipsStream\u001b[39m[\u001b[32mArray\u001b[39m[\u001b[32mDouble\u001b[39m]] = edu.stanford.math.plex4.streams.impl.VietorisRipsStream@6fb49c0d"
      ]
     },
     "execution_count": 123,
     "metadata": {},
     "output_type": "execute_result"
    }
   ],
   "source": [
    "val (maxDimension, maxFiltrationValue, numDivisions) = (3, 10, 10)\n",
    "val irisStream = Plex4.createVietorisRipsStream(irisMetricSpace, maxDimension, maxFiltrationValue, numDivisions)\n"
   ]
  },
  {
   "cell_type": "code",
   "execution_count": 124,
   "metadata": {
    "collapsed": false
   },
   "outputs": [
    {
     "name": "stdout",
     "output_type": "stream",
     "text": [
      "Iris Stream for\n",
      "maxFiltrationValue = 10\n",
      "has 13129 simplices\n"
     ]
    }
   ],
   "source": [
    "println(Seq(\n",
    "  \"Iris Stream for\",\n",
    "  s\"maxFiltrationValue = ${maxFiltrationValue}\",\n",
    "  s\"has ${irisStream.asScala.size.toString} simplices\").mkString(\"\\n\"))"
   ]
  },
  {
   "cell_type": "code",
   "execution_count": 125,
   "metadata": {
    "collapsed": false
   },
   "outputs": [
    {
     "data": {
      "text/plain": [
       "\u001b[36mintervals\u001b[39m: \u001b[32mBarcodeCollection\u001b[39m[\u001b[32mjava\u001b[39m.\u001b[32mlang\u001b[39m.\u001b[32mDouble\u001b[39m] = Dimension: 0\n",
       "[0.0, 1.0)\n",
       "[0.0, 1.0)\n",
       "[0.0, 1.0)\n",
       "[0.0, 1.0)\n",
       "[0.0, 1.0)\n",
       "[0.0, 1.0)\n",
       "[0.0, 1.0)\n",
       "[0.0, 1.0)\n",
       "[0.0, 1.0)\n",
       "[0.0, 1.0)\n",
       "[0.0, 1.0)\n",
       "\u001b[33m...\u001b[39m\n",
       "\u001b[36mimgs\u001b[39m: \u001b[32mList\u001b[39m[(\u001b[32mInteger\u001b[39m, \u001b[32mjava\u001b[39m.\u001b[32mawt\u001b[39m.\u001b[32mimage\u001b[39m.\u001b[32mBufferedImage\u001b[39m)] = \u001b[33mList\u001b[39m(\n",
       "  (\n",
       "    0,\n",
       "    BufferedImage@14caf90: type = 5 ColorModel: #pixelBits = 24 numComponents = 3 color space = java.awt.color.ICC_ColorSpace@46e228e4 transparency = 1 has alpha = false isAlphaPre = false ByteInterleavedRaster: width = 600 height = 916 #numDataElements 3 dataOff[0] = 2\n",
       "  ),\n",
       "  (\n",
       "    1,\n",
       "    BufferedImage@474f96dd: type = 5 ColorModel: #pixelBits = 24 numComponents = 3 color space = java.awt.color.ICC_ColorSpace@46e228e4 transparency = 1 has alp\u001b[33m...\u001b[39m"
      ]
     },
     "execution_count": 125,
     "metadata": {},
     "output_type": "execute_result"
    }
   ],
   "source": [
    "val intervals = persistence.computeIntervals(irisStream)\n",
    "val imgs = barcodeImages(intervals) "
   ]
  },
  {
   "cell_type": "code",
   "execution_count": 126,
   "metadata": {
    "collapsed": false
   },
   "outputs": [
    {
     "data": {
      "image/png": "[encoded data removed]"
     },
     "metadata": {},
     "output_type": "display_data"
    },
    {
     "data": {
      "image/png": "[encoded data removed]"
     },
     "metadata": {},
     "output_type": "display_data"
    }
   ],
   "source": [
    "imgs.foreach { case (dim, img) => publish.png(img) }"
   ]
  },
  {
   "cell_type": "code",
   "execution_count": 112,
   "metadata": {
    "collapsed": false
   },
   "outputs": [
    {
     "data": {
      "text/plain": [
       "\u001b[36mres111\u001b[39m: \u001b[32mDouble\u001b[39m = \u001b[32m6.649812027418519\u001b[39m"
      ]
     },
     "execution_count": 112,
     "metadata": {},
     "output_type": "execute_result"
    }
   ],
   "source": []
  },
  {
   "cell_type": "code",
   "execution_count": null,
   "metadata": {
    "collapsed": true
   },
   "outputs": [],
   "source": []
  }
 ],
 "metadata": {
  "anaconda-cloud": {},
  "hide_input": false,
  "kernelspec": {
   "display_name": "Scala",
   "language": "scala",
   "name": "scala"
  },
  "language_info": {
   "codemirror_mode": "text/x-scala",
   "file_extension": ".scala",
   "mimetype": "text/x-scala",
   "name": "scala211",
   "nbconvert_exporter": "scala",
   "pygments_lexer": "scala",
   "version": "2.11.8"
  }
 },
 "nbformat": 4,
 "nbformat_minor": 0
}
