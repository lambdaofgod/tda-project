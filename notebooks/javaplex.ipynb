{
 "cells": [
  {
   "cell_type": "code",
   "execution_count": 1,
   "metadata": {
    "collapsed": false
   },
   "outputs": [
    {
     "data": {
      "text/plain": [
       "defined \u001b[32mobject\u001b[39m \u001b[36mImporter\u001b[39m"
      ]
     },
     "execution_count": 1,
     "metadata": {},
     "output_type": "execute_result"
    }
   ],
   "source": [
    "object Importer {\n",
    "  import ammonite.ops._\n",
    "  import java.io.File\n",
    "  \n",
    "  val toplevelPath = Path(\"/\" +\n",
    "    pwd.segments\n",
    "       .dropRight(1)\n",
    "       .mkString(\"/\"))\n",
    "  \n",
    "  private val jarPath = toplevelPath / \"lib\" / \"computational-topology-assembly-1.0.jar\" \n",
    "  \n",
    "  def loadProjectDependencies = interp.load.cp(jarPath)\n",
    "  \n",
    "  def loadData(fileName: String) = {\n",
    "    val dataPath = toplevelPath / 'data / fileName\n",
    "    new File(dataPath.toString)\n",
    "  }\n",
    "}\n",
    "\n",
    "Importer.loadProjectDependencies"
   ]
  },
  {
   "cell_type": "code",
   "execution_count": 64,
   "metadata": {
    "collapsed": false
   },
   "outputs": [
    {
     "data": {
      "text/plain": [
       "\u001b[32mimport \u001b[39m\u001b[36mscala.collection.JavaConverters._\n",
       "\u001b[39m\n",
       "\u001b[32mimport \u001b[39m\u001b[36mscala.collection.JavaConversions._\n",
       "\u001b[39m\n",
       "\u001b[32mimport \u001b[39m\u001b[36medu.stanford.math.plex4._\n",
       "\u001b[39m\n",
       "\u001b[32mimport \u001b[39m\u001b[36medu.stanford.math.plex4.api._\n",
       "\u001b[39m\n",
       "\u001b[32mimport \u001b[39m\u001b[36medu.stanford.math.plex4.visualization._\n",
       "\u001b[39m\n",
       "\u001b[32mimport \u001b[39m\u001b[36medu.stanford.math.plex4.homology.barcodes._\n",
       "\n",
       "\u001b[39m\n",
       "\u001b[32mimport \u001b[39m\u001b[36mjavax.imageio.ImageIO\n",
       "\u001b[39m\n",
       "\u001b[32mimport \u001b[39m\u001b[36mjava.io.File\n",
       "\n",
       "\u001b[39m\n",
       "\u001b[32mimport \u001b[39m\u001b[36mbreeze.linalg._\n",
       "\u001b[39m\n",
       "\u001b[32mimport \u001b[39m\u001b[36mbreeze.linalg.functions._\n",
       "\u001b[39m\n",
       "\u001b[32mimport \u001b[39m\u001b[36mbreeze.linalg._\n",
       "\u001b[39m\n",
       "\u001b[32mimport \u001b[39m\u001b[36mbreeze.math._\n",
       "\u001b[39m\n",
       "\u001b[32mimport \u001b[39m\u001b[36mbreeze.numerics._\n",
       "\u001b[39m\n",
       "\u001b[32mimport \u001b[39m\u001b[36mbreeze.util.JavaArrayOps\n",
       "\n",
       "\u001b[39m\n",
       "defined \u001b[32mfunction\u001b[39m \u001b[36mmapEntryAsTuple\u001b[39m\n",
       "\u001b[36mdatadir\u001b[39m: \u001b[32mImporter\u001b[39m.\u001b[32mtoplevelPath\u001b[39m.\u001b[32mThisType\u001b[39m = /home/kuba/Projects/tutorial/computational-topology/data"
      ]
     },
     "execution_count": 64,
     "metadata": {},
     "output_type": "execute_result"
    }
   ],
   "source": [
    "import scala.collection.JavaConverters._\n",
    "import scala.collection.JavaConversions._\n",
    "import edu.stanford.math.plex4._\n",
    "import edu.stanford.math.plex4.api._\n",
    "import edu.stanford.math.plex4.visualization._\n",
    "import edu.stanford.math.plex4.homology.barcodes._\n",
    "\n",
    "import javax.imageio.ImageIO\n",
    "import java.io.File\n",
    "\n",
    "import breeze.linalg._\n",
    "import breeze.linalg.functions._\n",
    "import breeze.linalg._\n",
    "import breeze.math._\n",
    "import breeze.numerics._\n",
    "import breeze.util.JavaArrayOps\n",
    "\n",
    "implicit def mapEntryAsTuple[T,S](me: java.util.Map.Entry[T,S]): (T,S) = {\n",
    "  (me.getKey(), me.getValue)\n",
    "}\n",
    "\n",
    "val datadir = Importer.toplevelPath / 'data"
   ]
  },
  {
   "cell_type": "code",
   "execution_count": 33,
   "metadata": {
    "collapsed": false
   },
   "outputs": [
    {
     "data": {
      "text/plain": [
       "defined \u001b[32mfunction\u001b[39m \u001b[36mbarcodeImages\u001b[39m\n",
       "defined \u001b[32mfunction\u001b[39m \u001b[36mdrawBarcodes\u001b[39m\n",
       "defined \u001b[32mfunction\u001b[39m \u001b[36mdist\u001b[39m"
      ]
     },
     "execution_count": 33,
     "metadata": {},
     "output_type": "execute_result"
    }
   ],
   "source": [
    "def barcodeImages(intervals: BarcodeCollection[java.lang.Double], maxFiltrationValue: Double) = {\n",
    "  val intervalsPerDimension = intervals.getIntervalIterator.asScala.map(x => (x.getKey, x.getValue))toList\n",
    "  val imgs = intervalsPerDimension map { case (dim, intervals) =>\n",
    "    (dim, BarcodeVisualizer.drawBarcode(intervals, s\"dimension ${dim}\", maxFiltrationValue))\n",
    "  }\n",
    "  imgs\n",
    "}\n",
    "\n",
    "def drawBarcodes(images: Seq[java.awt.image.BufferedImage]) = {\n",
    "  images foreach publish.png \n",
    "}\n",
    "\n",
    "def dist(X: DenseMatrix[Double], Y: DenseMatrix[Double]): DenseMatrix[Double] = {\n",
    "  val XdotY = -2.0 * (X * Y.t)\n",
    "  val XdotX = diag(X * X.t)\n",
    "  val YdotY = diag(Y * Y.t)\n",
    "  val tmp1 =  XdotY(::, *) + XdotX\n",
    "  tmp1(*, ::) + YdotY\n",
    "}"
   ]
  },
  {
   "cell_type": "code",
   "execution_count": 34,
   "metadata": {
    "collapsed": false
   },
   "outputs": [
    {
     "data": {
      "text/plain": [
       "\u001b[36mstream\u001b[39m: \u001b[32mstreams\u001b[39m.\u001b[32mimpl\u001b[39m.\u001b[32mExplicitSimplexStream\u001b[39m = edu.stanford.math.plex4.streams.impl.ExplicitSimplexStream@581e6e04\n",
       "\u001b[36mres33_8\u001b[39m: \u001b[32mInt\u001b[39m = \u001b[32m6\u001b[39m"
      ]
     },
     "execution_count": 34,
     "metadata": {},
     "output_type": "execute_result"
    }
   ],
   "source": [
    "val stream = Plex4.createExplicitSimplexStream()\n",
    "\n",
    "stream.addVertex(0)\n",
    "stream.addVertex(1)\n",
    "stream.addVertex(2)\n",
    "stream.addElement(Array(0, 1))\n",
    "stream.addElement(Array(0, 2))\n",
    "stream.addElement(Array(1,2))\n",
    "stream.finalizeStream()\n",
    "\n",
    "stream.getSize"
   ]
  },
  {
   "cell_type": "code",
   "execution_count": 35,
   "metadata": {
    "collapsed": false
   },
   "outputs": [
    {
     "data": {
      "text/plain": [
       "\u001b[36mpersistence\u001b[39m: \u001b[32mhomology\u001b[39m.\u001b[32minterfaces\u001b[39m.\u001b[32mAbstractPersistenceAlgorithm\u001b[39m[\u001b[32mhomology\u001b[39m.\u001b[32mchain_basis\u001b[39m.\u001b[32mSimplex\u001b[39m] = edu.stanford.math.plex4.autogen.homology.IntAbsoluteHomology@1415745d\n",
       "\u001b[36mcircleIntervals\u001b[39m: \u001b[32mBarcodeCollection\u001b[39m[\u001b[32mInteger\u001b[39m] = Dimension: 0\n",
       "[0, infinity)\n",
       "Dimension: 1\n",
       "[0, infinity)\n"
      ]
     },
     "execution_count": 35,
     "metadata": {},
     "output_type": "execute_result"
    }
   ],
   "source": [
    "val persistence = Plex4.getModularSimplicialAlgorithm(3, 2)\n",
    "val circleIntervals = persistence.computeIndexIntervals(stream)"
   ]
  },
  {
   "cell_type": "markdown",
   "metadata": {},
   "source": [
    "## 9 - sphere "
   ]
  },
  {
   "cell_type": "code",
   "execution_count": 36,
   "metadata": {
    "collapsed": false
   },
   "outputs": [
    {
     "data": {
      "text/plain": [
       "\u001b[36mdimension\u001b[39m: \u001b[32mInt\u001b[39m = \u001b[32m9\u001b[39m\n",
       "\u001b[36mstream\u001b[39m: \u001b[32mstreams\u001b[39m.\u001b[32mimpl\u001b[39m.\u001b[32mExplicitSimplexStream\u001b[39m = edu.stanford.math.plex4.streams.impl.ExplicitSimplexStream@2c7c960\n",
       "\u001b[36mres35_4\u001b[39m: \u001b[32mBoolean\u001b[39m = \u001b[32mtrue\u001b[39m\n",
       "\u001b[36mpersistence9\u001b[39m: \u001b[32mhomology\u001b[39m.\u001b[32minterfaces\u001b[39m.\u001b[32mAbstractPersistenceAlgorithm\u001b[39m[\u001b[32mhomology\u001b[39m.\u001b[32mchain_basis\u001b[39m.\u001b[32mSimplex\u001b[39m] = edu.stanford.math.plex4.autogen.homology.IntAbsoluteHomology@78a891a8"
      ]
     },
     "execution_count": 36,
     "metadata": {},
     "output_type": "execute_result"
    }
   ],
   "source": [
    "val dimension = 9\n",
    "val stream = Plex4.createExplicitSimplexStream()\n",
    "stream.addElement(0 to (dimension + 1) toArray)\n",
    "stream.ensureAllFaces()\n",
    "stream.removeElementIfPresent(0 to (dimension + 1) toArray)\n",
    "stream.finalizeStream()\n",
    "\n",
    "val persistence9 = Plex4.getModularSimplicialAlgorithm(dimension + 1, 2)"
   ]
  },
  {
   "cell_type": "code",
   "execution_count": 37,
   "metadata": {
    "collapsed": false
   },
   "outputs": [
    {
     "data": {
      "text/plain": [
       "\u001b[36mintervals9\u001b[39m: \u001b[32mBarcodeCollection\u001b[39m[\u001b[32mjava\u001b[39m.\u001b[32mlang\u001b[39m.\u001b[32mDouble\u001b[39m] = Dimension: 0\n",
       "[0.0, infinity)\n"
      ]
     },
     "execution_count": 37,
     "metadata": {},
     "output_type": "execute_result"
    }
   ],
   "source": [
    "val intervals9 = persistence.computeIntervals(stream)"
   ]
  },
  {
   "cell_type": "markdown",
   "metadata": {},
   "source": [
    "# House"
   ]
  },
  {
   "cell_type": "markdown",
   "metadata": {},
   "source": [
    "### Explicit stream"
   ]
  },
  {
   "cell_type": "code",
   "execution_count": 38,
   "metadata": {
    "collapsed": false
   },
   "outputs": [
    {
     "data": {
      "text/plain": [
       "\u001b[36mhouseStream\u001b[39m: \u001b[32mstreams\u001b[39m.\u001b[32mimpl\u001b[39m.\u001b[32mExplicitSimplexStream\u001b[39m = edu.stanford.math.plex4.streams.impl.ExplicitSimplexStream@7f89f157"
      ]
     },
     "execution_count": 38,
     "metadata": {},
     "output_type": "execute_result"
    }
   ],
   "source": [
    "val houseStream = Plex4.createExplicitSimplexStream();\n",
    "houseStream.addVertex(1, 0);\n",
    "houseStream.addVertex(2, 0);\n",
    "houseStream.addVertex(3, 0);\n",
    "houseStream.addVertex(4, 0);\n",
    "houseStream.addVertex(5, 1);\n",
    "houseStream.addElement(Array(1, 2), 0);\n",
    "houseStream.addElement(Array(2,3), 0);\n",
    "houseStream.addElement(Array(3, 4), 0);\n",
    "houseStream.addElement(Array(4, 1), 0);\n",
    "houseStream.addElement(Array(3, 5), 2);\n",
    "houseStream.addElement(Array(4, 5), 3);\n",
    "houseStream.addElement(Array(3, 4, 5), 7);\n",
    "houseStream.finalizeStream()"
   ]
  },
  {
   "cell_type": "code",
   "execution_count": 39,
   "metadata": {
    "collapsed": false
   },
   "outputs": [
    {
     "data": {
      "text/plain": [
       "\u001b[36mintervals\u001b[39m: \u001b[32mBarcodeCollection\u001b[39m[\u001b[32mjava\u001b[39m.\u001b[32mlang\u001b[39m.\u001b[32mDouble\u001b[39m] = Dimension: 0\n",
       "[1.0, 2.0)\n",
       "[0.0, infinity)\n",
       "Dimension: 1\n",
       "[3.0, 7.0)\n",
       "[0.0, infinity)\n",
       "\n",
       "\u001b[36mactualIntervals\u001b[39m: \u001b[32mList\u001b[39m[\u001b[32mjava\u001b[39m.\u001b[32mutil\u001b[39m.\u001b[32mList\u001b[39m[\u001b[32mInterval\u001b[39m[\u001b[32mjava\u001b[39m.\u001b[32mlang\u001b[39m.\u001b[32mDouble\u001b[39m]]] = \u001b[33mList\u001b[39m([[1.0, 2.0), [0.0, infinity)], [[3.0, 7.0), [0.0, infinity)])\n",
       "\u001b[36mres38_2\u001b[39m: \u001b[32mInt\u001b[39m = \u001b[32m2\u001b[39m"
      ]
     },
     "execution_count": 39,
     "metadata": {},
     "output_type": "execute_result"
    }
   ],
   "source": [
    "val intervals = persistence.computeIntervals(houseStream)\n",
    "val actualIntervals = intervals.getIntervalIterator.asScala.map(_.getValue).toList\n",
    "actualIntervals.length"
   ]
  },
  {
   "cell_type": "code",
   "execution_count": 40,
   "metadata": {
    "collapsed": false
   },
   "outputs": [
    {
     "data": {
      "text/plain": [
       "\u001b[36mintervalsDim0\u001b[39m: \u001b[32mArray\u001b[39m[\u001b[32mArray\u001b[39m[\u001b[32mDouble\u001b[39m]] = \u001b[33mArray\u001b[39m(\u001b[33mArray\u001b[39m(\u001b[32m0.0\u001b[39m, \u001b[32mInfinity\u001b[39m), \u001b[33mArray\u001b[39m(\u001b[32m3.0\u001b[39m, \u001b[32m7.0\u001b[39m))"
      ]
     },
     "execution_count": 40,
     "metadata": {},
     "output_type": "execute_result"
    }
   ],
   "source": [
    "val intervalsDim0 = BarcodeUtility.getEndpoints(intervals, 1, false)"
   ]
  },
  {
   "cell_type": "markdown",
   "metadata": {
    "collapsed": true
   },
   "source": [
    "### Vietoris-Rips from point cloud"
   ]
  },
  {
   "cell_type": "code",
   "execution_count": 41,
   "metadata": {
    "collapsed": false
   },
   "outputs": [
    {
     "data": {
      "text/plain": [
       "\u001b[36mpointCloud\u001b[39m: \u001b[32mArray\u001b[39m[\u001b[32mArray\u001b[39m[\u001b[32mDouble\u001b[39m]] = \u001b[33mArray\u001b[39m(\n",
       "  \u001b[33mArray\u001b[39m(\u001b[32m-1.0\u001b[39m, \u001b[32m0.0\u001b[39m),\n",
       "  \u001b[33mArray\u001b[39m(\u001b[32m1.0\u001b[39m, \u001b[32m0.0\u001b[39m),\n",
       "  \u001b[33mArray\u001b[39m(\u001b[32m1.0\u001b[39m, \u001b[32m2.0\u001b[39m),\n",
       "  \u001b[33mArray\u001b[39m(\u001b[32m-1.0\u001b[39m, \u001b[32m2.0\u001b[39m),\n",
       "  \u001b[33mArray\u001b[39m(\u001b[32m0.0\u001b[39m, \u001b[32m3.0\u001b[39m)\n",
       ")\n",
       "\u001b[36mhouseMetricSpace\u001b[39m: \u001b[32mmetric\u001b[39m.\u001b[32mimpl\u001b[39m.\u001b[32mEuclideanMetricSpace\u001b[39m = edu.stanford.math.plex4.metric.impl.EuclideanMetricSpace@68a75061\n",
       "\u001b[36mmaxDimension\u001b[39m: \u001b[32mInt\u001b[39m = \u001b[32m3\u001b[39m\n",
       "\u001b[36mmaxFiltrationValue\u001b[39m: \u001b[32mDouble\u001b[39m = \u001b[32m4.0\u001b[39m\n",
       "\u001b[36mnumDivisions\u001b[39m: \u001b[32mInt\u001b[39m = \u001b[32m100\u001b[39m\n",
       "\u001b[36mvietorisRipsStream\u001b[39m: \u001b[32mstreams\u001b[39m.\u001b[32mimpl\u001b[39m.\u001b[32mVietorisRipsStream\u001b[39m[\u001b[32mArray\u001b[39m[\u001b[32mDouble\u001b[39m]] = edu.stanford.math.plex4.streams.impl.VietorisRipsStream@5057b943\n",
       "\u001b[36mhouseIntervals\u001b[39m: \u001b[32mBarcodeCollection\u001b[39m[\u001b[32mjava\u001b[39m.\u001b[32mlang\u001b[39m.\u001b[32mDouble\u001b[39m] = Dimension: 0\n",
       "[0.0, 1.4000000000000001)\n",
       "[0.0, 1.4000000000000001)\n",
       "[0.0, 2.0)\n",
       "[0.0, 2.0)\n",
       "[0.0, infinity)\n",
       "Dimension: 1\n",
       "[2.0, 2.8000000000000003)\n"
      ]
     },
     "execution_count": 41,
     "metadata": {},
     "output_type": "execute_result"
    }
   ],
   "source": [
    "val pointCloud = examples.PointCloudExamples.getHouseExample()\n",
    "val houseMetricSpace= new metric.impl.EuclideanMetricSpace(pointCloud)\n",
    "\n",
    "val (maxDimension, maxFiltrationValue, numDivisions)= (3, 4.0, 100)\n",
    "\n",
    "val vietorisRipsStream = api.Plex4.createVietorisRipsStream(\n",
    "  houseMetricSpace,\n",
    "  maxDimension,\n",
    "  maxFiltrationValue,\n",
    "  numDivisions)\n",
    "\n",
    "val houseIntervals = persistence.computeIntervals(vietorisRipsStream)"
   ]
  },
  {
   "cell_type": "code",
   "execution_count": 42,
   "metadata": {
    "collapsed": false
   },
   "outputs": [
    {
     "data": {
      "image/png": "[encoded data removed]"
     },
     "metadata": {},
     "output_type": "display_data"
    },
    {
     "data": {
      "image/png": "[encoded data removed]"
     },
     "metadata": {},
     "output_type": "display_data"
    },
    {
     "data": {
      "text/plain": [
       "\u001b[36mhouseImgs\u001b[39m: \u001b[32mList\u001b[39m[(\u001b[32mInteger\u001b[39m, \u001b[32mjava\u001b[39m.\u001b[32mawt\u001b[39m.\u001b[32mimage\u001b[39m.\u001b[32mBufferedImage\u001b[39m)] = \u001b[33mList\u001b[39m(\n",
       "  (\n",
       "    0,\n",
       "    BufferedImage@3d3c3479: type = 5 ColorModel: #pixelBits = 24 numComponents = 3 color space = java.awt.color.ICC_ColorSpace@49ce2580 transparency = 1 has alpha = false isAlphaPre = false ByteInterleavedRaster: width = 600 height = 88 #numDataElements 3 dataOff[0] = 2\n",
       "  ),\n",
       "  (\n",
       "    1,\n",
       "    BufferedImage@54f9675: type = 5 ColorModel: #pixelBits = 24 numComponents = 3 color space = java.awt.color.ICC_ColorSpace@49ce2580 transparency = 1 has alph\u001b[33m...\u001b[39m"
      ]
     },
     "execution_count": 42,
     "metadata": {},
     "output_type": "execute_result"
    }
   ],
   "source": [
    "val houseImgs = barcodeImages(houseIntervals, maxFiltrationValue)\n",
    "houseImgs.foreach { case (dim, img) => publish.png(img) }"
   ]
  },
  {
   "cell_type": "markdown",
   "metadata": {},
   "source": [
    "## Torus homology "
   ]
  },
  {
   "cell_type": "code",
   "execution_count": 43,
   "metadata": {
    "collapsed": false
   },
   "outputs": [
    {
     "data": {
      "text/plain": [
       "\u001b[36mtorusData\u001b[39m: \u001b[32mDenseMatrix\u001b[39m[\u001b[32mDouble\u001b[39m] = 1.1547374378934483   0.4147384166499685   1.121985409397243     0.43496219081898635   \n",
       "1.1775045005640583   0.33257432909688106  0.8420377333033382    0.7101838369733117    \n",
       "0.9828032203685301   0.45864791156413265  0.7684663872066646    1.0282791752212084    \n",
       "1.1794004803299083   0.4267480584645309   0.3366053645355346    1.0393419695298924    \n",
       "1.109146327851506    0.4830043227003494   0.02937321303795829   1.112360889142937     \n",
       "0.9754416175450059   0.48398895685702026  -0.14883751363346595  1.1919390880060103    \n",
       "\u001b[33m...\u001b[39m\n",
       "\u001b[36mmaxDimension\u001b[39m: \u001b[32mInt\u001b[39m = \u001b[32m3\u001b[39m\n",
       "\u001b[36mmaxFiltrationValue\u001b[39m: \u001b[32mDouble\u001b[39m = \u001b[32m0.9\u001b[39m\n",
       "\u001b[36mnumDivisions\u001b[39m: \u001b[32mInt\u001b[39m = \u001b[32m100\u001b[39m\n",
       "\u001b[36mtorusStream\u001b[39m: \u001b[32mstreams\u001b[39m.\u001b[32mimpl\u001b[39m.\u001b[32mVietorisRipsStream\u001b[39m[\u001b[32mArray\u001b[39m[\u001b[32mDouble\u001b[39m]] = edu.stanford.math.plex4.streams.impl.VietorisRipsStream@301c9875\n",
       "\u001b[36mtorusIntervals\u001b[39m: \u001b[32mBarcodeCollection\u001b[39m[\u001b[32mjava\u001b[39m.\u001b[32mlang\u001b[39m.\u001b[32mDouble\u001b[39m] = Dimension: 0\n",
       "[0.0, 0.099)\n",
       "[0.0, 0.10800000000000001)\n",
       "[0.0, 0.10800000000000001)\n",
       "[0.0, 0.11700000000000002)\n",
       "[0.0, 0.11700000000000002)\n",
       "[0.0, 0.14400000000000002)\n",
       "[0.0, 0.14400000000000002)\n",
       "[0.0, 0.15300000000000002)\n",
       "[0.0, 0.15300000000000002)\n",
       "[0.0, 0.15300000000000002)\n",
       "[0.0, 0.16200000000000003)\n",
       "\u001b[33m...\u001b[39m"
      ]
     },
     "execution_count": 43,
     "metadata": {},
     "output_type": "execute_result"
    }
   ],
   "source": [
    "val torusData = csvread(Importer.loadData(\"pointsTorusGrid.csv\"))\n",
    "\n",
    "val (maxDimension, maxFiltrationValue, numDivisions) = (3, 0.9, 100)\n",
    "\n",
    "val torusStream = Plex4.createVietorisRipsStream(JavaArrayOps.dmDToArray2(torusData), maxDimension, maxFiltrationValue, numDivisions)\n",
    "\n",
    "val torusIntervals = persistence.computeIntervals(torusStream)"
   ]
  },
  {
   "cell_type": "code",
   "execution_count": 44,
   "metadata": {
    "collapsed": false
   },
   "outputs": [
    {
     "name": "stdout",
     "output_type": "stream",
     "text": [
      "TorusStream for\n",
      "maxFiltrationValue = 0.9\n",
      "has 82479 simplices\n"
     ]
    }
   ],
   "source": [
    "println(Seq(\n",
    "  \"TorusStream for\",\n",
    "  s\"maxFiltrationValue = ${maxFiltrationValue}\",\n",
    "  s\"has ${torusStream.getSize()} simplices\").mkString(\"\\n\"))"
   ]
  },
  {
   "cell_type": "code",
   "execution_count": 45,
   "metadata": {
    "collapsed": false
   },
   "outputs": [
    {
     "data": {
      "image/png": "[encoded data removed]"
     },
     "metadata": {},
     "output_type": "display_data"
    },
    {
     "data": {
      "image/png": "[encoded data removed]"
     },
     "metadata": {},
     "output_type": "display_data"
    },
    {
     "data": {
      "image/png": "[encoded data removed]"
     },
     "metadata": {},
     "output_type": "display_data"
    }
   ],
   "source": [
    "barcodeImages(torusIntervals, maxFiltrationValue) foreach { case (dim, img) => publish.png(img) }"
   ]
  },
  {
   "cell_type": "markdown",
   "metadata": {},
   "source": [
    "## Iris homology "
   ]
  },
  {
   "cell_type": "code",
   "execution_count": 46,
   "metadata": {
    "collapsed": false
   },
   "outputs": [
    {
     "data": {
      "text/plain": [
       "\u001b[36mirisAllData\u001b[39m: \u001b[32mDenseMatrix\u001b[39m[\u001b[32mDouble\u001b[39m] = 5.1  3.5  1.4  0.2  1.0  \n",
       "4.9  3.0  1.4  0.2  1.0  \n",
       "4.7  3.2  1.3  0.2  1.0  \n",
       "4.6  3.1  1.5  0.2  1.0  \n",
       "5.0  3.6  1.4  0.2  1.0  \n",
       "5.4  3.9  1.7  0.4  1.0  \n",
       "4.6  3.4  1.4  0.3  1.0  \n",
       "5.0  3.4  1.5  0.2  1.0  \n",
       "4.4  2.9  1.4  0.2  1.0  \n",
       "4.9  3.1  1.5  0.1  1.0  \n",
       "5.4  3.7  1.5  0.2  1.0  \n",
       "4.8  3.4  1.6  0.2  1.0  \n",
       "\u001b[33m...\u001b[39m\n",
       "\u001b[36mirisData\u001b[39m: \u001b[32mDenseMatrix\u001b[39m[\u001b[32mDouble\u001b[39m] = 5.1  3.5  1.4  0.2  \n",
       "4.9  3.0  1.4  0.2  \n",
       "4.7  3.2  1.3  0.2  \n",
       "4.6  3.1  1.5  0.2  \n",
       "5.0  3.6  1.4  0.2  \n",
       "5.4  3.9  1.7  0.4  \n",
       "4.6  3.4  1.4  0.3  \n",
       "5.0  3.4  1.5  0.2  \n",
       "4.4  2.9  1.4  0.2  \n",
       "4.9  3.1  1.5  0.1  \n",
       "5.4  3.7  1.5  0.2  \n",
       "4.8  3.4  1.6  0.2  \n",
       "\u001b[33m...\u001b[39m\n",
       "\u001b[36mirisTarget\u001b[39m: \u001b[32mDenseVector\u001b[39m[\u001b[32mInt\u001b[39m] = DenseVector(1, 1, 1, 1, 1, 1, 1, 1, 1, 1, 1, 1, 1, 1, 1, 1, 1, 1, 1, 1, 1, 1, 1, 1, 1, 1, 1, 1, 1, 1, 1, 1, 1, 1, 1, 1, 1, 1, 1, 1, 1, 1, 1, 1, 1, 1, 1, 1, 1, 1, 2, 2, 2, 2, 2, 2, 2, 2, 2, 2, 2, 2, 2, 2, 2, 2, 2, 2, 2, 2, 2, 2, 2, 2, 2, 2, 2, 2, 2, 2, 2, 2, 2, 2, 2, 2, 2, 2, 2, 2, 2, 2, 2, 2, 2, 2, 2, 2, 2, 2, 3, 3, 3, 3, 3, 3, 3, 3, 3, 3, 3, 3, 3, 3, 3, 3, 3, 3, 3, 3, 3, 3, 3, 3, 3, 3, 3, 3, 3, 3, 3, 3, 3, 3, 3, 3, 3, 3, 3, 3, 3, 3, 3, 3, 3, 3, 3, 3, 3, 3)\n",
       "\u001b[36mirisDataNormalized\u001b[39m: \u001b[32mDenseMatrix\u001b[39m[\u001b[32mDouble\u001b[39m] = 5.1  3.5  1.4  0.2  1.0  \n",
       "4.9  3.0  1.4  0.2  1.0  \n",
       "4.7  3.2  1.3  0.2  1.0  \n",
       "4.6  3.1  1.5  0.2  1.0  \n",
       "5.0  3.6  1.4  0.2  1.0  \n",
       "5.4  3.9  1.7  0.4  1.0  \n",
       "4.6  3.4  1.4  0.3  1.0  \n",
       "5.0  3.4  1.5  0.2  1.0  \n",
       "4.4  2.9  1.4  0.2  1.0  \n",
       "4.9  3.1  1.5  0.1  1.0  \n",
       "5.4  3.7  1.5  0.2  1.0  \n",
       "4.8  3.4  1.6  0.2  1.0  \n",
       "\u001b[33m...\u001b[39m\n",
       "\u001b[36mirisDist\u001b[39m: \u001b[32mDenseMatrix\u001b[39m[\u001b[32mDouble\u001b[39m] = 0.0                   0.29000000000001336   ... (150 total)\n",
       "0.29000000000001336   0.0                   ...\n",
       "0.259999999999998     0.09000000000000341   ...\n",
       "0.4200000000000017    0.11000000000000654   ...\n",
       "0.01999999999999602   0.37000000000001165   ...\n",
       "0.38000000000000256   1.1899999999999977    ...\n",
       "0.269999999999996     0.259999999999998     ...\n",
       "0.030000000000001137  0.17999999999999972   ...\n",
       "0.8499999999999943    0.2600000000000122    ...\n",
       "0.21999999999999886   0.02999999999999403   ...\n",
       "0.14000000000000057   0.7500000000000071    ...\n",
       "0.14000000000000767   0.21000000000000796   ...\n",
       "\u001b[33m...\u001b[39m\n",
       "\u001b[36mirisArray\u001b[39m: \u001b[32mArray\u001b[39m[\u001b[32mArray\u001b[39m[\u001b[32mDouble\u001b[39m]] = \u001b[33mArray\u001b[39m(\n",
       "  \u001b[33mArray\u001b[39m(\n",
       "    \u001b[32m0.0\u001b[39m,\n",
       "    \u001b[32m0.29000000000001336\u001b[39m,\n",
       "    \u001b[32m0.259999999999998\u001b[39m,\n",
       "    \u001b[32m0.4200000000000017\u001b[39m,\n",
       "    \u001b[32m0.01999999999999602\u001b[39m,\n",
       "    \u001b[32m0.38000000000000256\u001b[39m,\n",
       "    \u001b[32m0.269999999999996\u001b[39m,\n",
       "    \u001b[32m0.030000000000001137\u001b[39m,\n",
       "    \u001b[32m0.8499999999999943\u001b[39m,\n",
       "    \u001b[32m0.21999999999999886\u001b[39m,\n",
       "\u001b[33m...\u001b[39m"
      ]
     },
     "execution_count": 46,
     "metadata": {},
     "output_type": "execute_result"
    }
   ],
   "source": [
    "val irisAllData = csvread(Importer.loadData(\"iris.csv\"))\n",
    "\n",
    "val irisData = irisAllData(::, Range(0,4))\n",
    "val irisTarget = irisAllData(::, 4).map(_.toInt)\n",
    "val irisDataNormalized = irisAllData\n",
    "\n",
    "val irisDist = dist(irisData, irisData)\n",
    "val irisArray = JavaArrayOps.dmDToArray2(irisDist)"
   ]
  },
  {
   "cell_type": "code",
   "execution_count": 47,
   "metadata": {
    "collapsed": false
   },
   "outputs": [
    {
     "data": {
      "text/plain": [
       "\u001b[36mmaxDimension\u001b[39m: \u001b[32mInt\u001b[39m = \u001b[32m4\u001b[39m\n",
       "\u001b[36mmaxFiltrationValue\u001b[39m: \u001b[32mDouble\u001b[39m = \u001b[32m25.100000000000012\u001b[39m\n",
       "\u001b[36mnumDivisions\u001b[39m: \u001b[32mInt\u001b[39m = \u001b[32m50\u001b[39m\n",
       "\u001b[36mirisStream\u001b[39m: \u001b[32mstreams\u001b[39m.\u001b[32mimpl\u001b[39m.\u001b[32mVietorisRipsStream\u001b[39m[\u001b[32mArray\u001b[39m[\u001b[32mDouble\u001b[39m]] = edu.stanford.math.plex4.streams.impl.VietorisRipsStream@4ac2a54d"
      ]
     },
     "execution_count": 47,
     "metadata": {},
     "output_type": "execute_result"
    }
   ],
   "source": [
    "val (maxDimension, maxFiltrationValue, numDivisions) = (4, irisDist.max / 2, 50)\n",
    "val irisStream = Plex4.createVietorisRipsStream(irisArray, maxDimension, maxFiltrationValue, numDivisions)"
   ]
  },
  {
   "cell_type": "code",
   "execution_count": 48,
   "metadata": {
    "collapsed": false
   },
   "outputs": [
    {
     "name": "stdout",
     "output_type": "stream",
     "text": [
      "Iris Stream for\n",
      "maxFiltrationValue = 25.100000000000012\n",
      "has 443781 simplices\n"
     ]
    }
   ],
   "source": [
    "println(Seq(\n",
    "  \"Iris Stream for\",\n",
    "  s\"maxFiltrationValue = ${maxFiltrationValue}\",\n",
    "  s\"has ${irisStream.asScala.size.toString} simplices\").mkString(\"\\n\"))"
   ]
  },
  {
   "cell_type": "code",
   "execution_count": 49,
   "metadata": {
    "collapsed": false
   },
   "outputs": [
    {
     "data": {
      "text/plain": [
       "\u001b[36mintervals\u001b[39m: \u001b[32mBarcodeCollection\u001b[39m[\u001b[32mjava\u001b[39m.\u001b[32mlang\u001b[39m.\u001b[32mDouble\u001b[39m] = Dimension: 0\n",
       "[0.0, 1.0040000000000004)\n",
       "[0.0, 1.0040000000000004)\n",
       "[0.0, 1.0040000000000004)\n",
       "[0.0, 1.0040000000000004)\n",
       "[0.0, 1.5060000000000007)\n",
       "[0.0, 1.5060000000000007)\n",
       "[0.0, 2.008000000000001)\n",
       "[0.0, 2.008000000000001)\n",
       "[0.0, 2.008000000000001)\n",
       "[0.0, 2.008000000000001)\n",
       "[0.0, 2.008000000000001)\n",
       "\u001b[33m...\u001b[39m\n",
       "\u001b[36mimgs\u001b[39m: \u001b[32mList\u001b[39m[(\u001b[32mInteger\u001b[39m, \u001b[32mjava\u001b[39m.\u001b[32mawt\u001b[39m.\u001b[32mimage\u001b[39m.\u001b[32mBufferedImage\u001b[39m)] = \u001b[33mList\u001b[39m(\n",
       "  (\n",
       "    0,\n",
       "    BufferedImage@6e0d45a3: type = 5 ColorModel: #pixelBits = 24 numComponents = 3 color space = java.awt.color.ICC_ColorSpace@49ce2580 transparency = 1 has alpha = false isAlphaPre = false ByteInterleavedRaster: width = 600 height = 952 #numDataElements 3 dataOff[0] = 2\n",
       "  ),\n",
       "  (\n",
       "    1,\n",
       "    BufferedImage@79223a8d: type = 5 ColorModel: #pixelBits = 24 numComponents = 3 color space = java.awt.color.ICC_ColorSpace@49ce2580 transparency = 1 has alp\u001b[33m...\u001b[39m"
      ]
     },
     "execution_count": 49,
     "metadata": {},
     "output_type": "execute_result"
    }
   ],
   "source": [
    "val intervals = persistence.computeIntervals(irisStream)\n",
    "val imgs = barcodeImages(intervals, maxFiltrationValue)"
   ]
  },
  {
   "cell_type": "code",
   "execution_count": 52,
   "metadata": {
    "collapsed": false
   },
   "outputs": [
    {
     "data": {
      "image/png": "[encoded data removed]"
     },
     "metadata": {},
     "output_type": "display_data"
    },
    {
     "data": {
      "image/png": "[encoded data removed]"
     },
     "metadata": {},
     "output_type": "display_data"
    }
   ],
   "source": [
    "drawBarcodes(imgs.map(_._2))"
   ]
  },
  {
   "cell_type": "code",
   "execution_count": 64,
   "metadata": {
    "collapsed": false
   },
   "outputs": [
    {
     "name": "stderr",
     "output_type": "stream",
     "text": [
      "cmd64.sc:1: Cannot prove that java.util.Map.Entry[Integer,java.util.List[edu.stanford.math.primitivelib.autogen.pair.ObjectObjectPair[edu.stanford.math.plex4.homology.barcodes.Interval[Double],Object]]] <:< (T, U).\n",
      "val res64 = intervals.toMap\n",
      "                      ^"
     ]
    },
    {
     "ename": "",
     "evalue": "",
     "output_type": "error",
     "traceback": [
      "Compilation Failed"
     ]
    }
   ],
   "source": [
    "intervals.toMap"
   ]
  },
  {
   "cell_type": "code",
   "execution_count": null,
   "metadata": {
    "collapsed": true
   },
   "outputs": [],
   "source": []
  }
 ],
 "metadata": {
  "anaconda-cloud": {},
  "hide_input": false,
  "kernelspec": {
   "display_name": "Scala",
   "language": "scala",
   "name": "scala"
  },
  "language_info": {
   "codemirror_mode": "text/x-scala",
   "file_extension": ".scala",
   "mimetype": "text/x-scala",
   "name": "scala211",
   "nbconvert_exporter": "scala",
   "pygments_lexer": "scala",
   "version": "2.11.8"
  }
 },
 "nbformat": 4,
 "nbformat_minor": 0
}
