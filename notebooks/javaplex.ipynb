{
 "cells": [
  {
   "cell_type": "code",
   "execution_count": 1,
   "metadata": {
    "collapsed": false
   },
   "outputs": [
    {
     "data": {
      "text/plain": [
       "\u001b[32mimport \u001b[39m\u001b[36mammonite.ops._\n",
       "\n",
       "\u001b[39m\n",
       "\u001b[32mimport \u001b[39m\u001b[36m$ivy.$                           \n",
       "\u001b[39m\n",
       "\u001b[32mimport \u001b[39m\u001b[36m$ivy.$                              \n",
       "\u001b[39m\n",
       "\u001b[32mimport \u001b[39m\u001b[36m$ivy.$                                      \n",
       "\n",
       "\u001b[39m\n",
       "\u001b[36mp\u001b[39m: \u001b[32mammonite\u001b[39m.\u001b[32mops\u001b[39m.\u001b[32mPath\u001b[39m = /home/kuba/Software/javaplex-4.2.5.jar\n",
       "\u001b[36mdatadir\u001b[39m: \u001b[32mString\u001b[39m = \u001b[32m\"/home/kuba/Projects/tutorial/computational-topology/data/\"\u001b[39m"
      ]
     },
     "execution_count": 1,
     "metadata": {},
     "output_type": "execute_result"
    }
   ],
   "source": [
    "import ammonite.ops._\n",
    "\n",
    "import $ivy.`org.slf4j:slf4j-api:1.7.21`\n",
    "import $ivy.`org.scalanlp:breeze_2.11:0.12`\n",
    "import $ivy.`org.scalanlp:breeze-natives_2.11:0.12`\n",
    "\n",
    "val p = Path(\"/home\") / \"kuba\" / \"Software\" / \"javaplex-4.2.5.jar\"\n",
    "val datadir = \"/home/kuba/Projects/tutorial/computational-topology/data/\" \n",
    "interp.load.cp(p)"
   ]
  },
  {
   "cell_type": "code",
   "execution_count": 2,
   "metadata": {
    "collapsed": false
   },
   "outputs": [
    {
     "data": {
      "text/plain": [
       "\u001b[32mimport \u001b[39m\u001b[36mscala.collection.JavaConverters._\n",
       "\u001b[39m\n",
       "\u001b[32mimport \u001b[39m\u001b[36medu.stanford.math.plex4._\n",
       "\u001b[39m\n",
       "\u001b[32mimport \u001b[39m\u001b[36medu.stanford.math.plex4.api._\n",
       "\u001b[39m\n",
       "\u001b[32mimport \u001b[39m\u001b[36medu.stanford.math.plex4.visualization._\n",
       "\u001b[39m\n",
       "\u001b[32mimport \u001b[39m\u001b[36medu.stanford.math.plex4.homology.barcodes._\n",
       "\n",
       "\u001b[39m\n",
       "\u001b[32mimport \u001b[39m\u001b[36mjavax.imageio.ImageIO\n",
       "\u001b[39m\n",
       "\u001b[32mimport \u001b[39m\u001b[36mjava.io.File\n",
       "\n",
       "\u001b[39m\n",
       "\u001b[32mimport \u001b[39m\u001b[36mbreeze.linalg._\n",
       "\u001b[39m\n",
       "\u001b[32mimport \u001b[39m\u001b[36mbreeze.linalg.functions._\n",
       "\u001b[39m\n",
       "\u001b[32mimport \u001b[39m\u001b[36mbreeze.linalg._\n",
       "\u001b[39m\n",
       "\u001b[32mimport \u001b[39m\u001b[36mbreeze.math._\n",
       "\u001b[39m\n",
       "\u001b[32mimport \u001b[39m\u001b[36mbreeze.numerics._\n",
       "\u001b[39m\n",
       "\u001b[32mimport \u001b[39m\u001b[36mbreeze.util.JavaArrayOps\u001b[39m"
      ]
     },
     "execution_count": 2,
     "metadata": {},
     "output_type": "execute_result"
    }
   ],
   "source": [
    "import scala.collection.JavaConverters._\n",
    "import edu.stanford.math.plex4._\n",
    "import edu.stanford.math.plex4.api._\n",
    "import edu.stanford.math.plex4.visualization._\n",
    "import edu.stanford.math.plex4.homology.barcodes._\n",
    "\n",
    "import javax.imageio.ImageIO\n",
    "import java.io.File\n",
    "\n",
    "import breeze.linalg._\n",
    "import breeze.linalg.functions._\n",
    "import breeze.linalg._\n",
    "import breeze.math._\n",
    "import breeze.numerics._\n",
    "import breeze.util.JavaArrayOps"
   ]
  },
  {
   "cell_type": "code",
   "execution_count": 13,
   "metadata": {
    "collapsed": false
   },
   "outputs": [
    {
     "data": {
      "text/plain": [
       "defined \u001b[32mfunction\u001b[39m \u001b[36mbarcodeImages\u001b[39m\n",
       "defined \u001b[32mfunction\u001b[39m \u001b[36mdist\u001b[39m"
      ]
     },
     "execution_count": 13,
     "metadata": {},
     "output_type": "execute_result"
    }
   ],
   "source": [
    "def barcodeImages(intervals: BarcodeCollection[java.lang.Double], maxFiltrationValue: Double) = {\n",
    "  val intervalsPerDimension = intervals.getIntervalIterator.asScala.map(x => (x.getKey, x.getValue))toList\n",
    "  val imgs = intervalsPerDimension map { case (dim, intervals) =>\n",
    "    (dim, BarcodeVisualizer.drawBarcode(intervals, s\"dimension ${dim}\", maxFiltrationValue))\n",
    "  }\n",
    "  imgs\n",
    "}\n",
    "\n",
    "def dist(X: DenseMatrix[Double], Y: DenseMatrix[Double]): DenseMatrix[Double] = {\n",
    "  val XdotY = -2.0 * (X * Y.t)\n",
    "  val XdotX = diag(X * X.t)\n",
    "  val YdotY = diag(Y * Y.t)\n",
    "  val tmp1 =  XdotY(::, *) + XdotX\n",
    "  tmp1(*, ::) + YdotY\n",
    "}\n"
   ]
  },
  {
   "cell_type": "code",
   "execution_count": 4,
   "metadata": {
    "collapsed": false
   },
   "outputs": [
    {
     "data": {
      "text/plain": [
       "\u001b[36mstream\u001b[39m: \u001b[32mstreams\u001b[39m.\u001b[32mimpl\u001b[39m.\u001b[32mExplicitSimplexStream\u001b[39m = edu.stanford.math.plex4.streams.impl.ExplicitSimplexStream@34c24cd4\n",
       "\u001b[36mres3_8\u001b[39m: \u001b[32mInt\u001b[39m = \u001b[32m6\u001b[39m"
      ]
     },
     "execution_count": 4,
     "metadata": {},
     "output_type": "execute_result"
    }
   ],
   "source": [
    "val stream = Plex4.createExplicitSimplexStream()\n",
    "\n",
    "stream.addVertex(0)\n",
    "stream.addVertex(1)\n",
    "stream.addVertex(2)\n",
    "stream.addElement(Array(0, 1))\n",
    "stream.addElement(Array(0, 2))\n",
    "stream.addElement(Array(1,2))\n",
    "stream.finalizeStream()\n",
    "\n",
    "stream.getSize"
   ]
  },
  {
   "cell_type": "code",
   "execution_count": 5,
   "metadata": {
    "collapsed": false
   },
   "outputs": [
    {
     "data": {
      "text/plain": [
       "\u001b[36mpersistence\u001b[39m: \u001b[32mhomology\u001b[39m.\u001b[32minterfaces\u001b[39m.\u001b[32mAbstractPersistenceAlgorithm\u001b[39m[\u001b[32mhomology\u001b[39m.\u001b[32mchain_basis\u001b[39m.\u001b[32mSimplex\u001b[39m] = edu.stanford.math.plex4.autogen.homology.IntAbsoluteHomology@c682fe2\n",
       "\u001b[36mcircleIntervals\u001b[39m: \u001b[32mBarcodeCollection\u001b[39m[\u001b[32mInteger\u001b[39m] = Dimension: 0\n",
       "[0, infinity)\n",
       "Dimension: 1\n",
       "[0, infinity)\n"
      ]
     },
     "execution_count": 5,
     "metadata": {},
     "output_type": "execute_result"
    }
   ],
   "source": [
    "val persistence = Plex4.getModularSimplicialAlgorithm(3, 2)\n",
    "val circleIntervals = persistence.computeIndexIntervals(stream)\n"
   ]
  },
  {
   "cell_type": "markdown",
   "metadata": {},
   "source": [
    "## 9 - sphere "
   ]
  },
  {
   "cell_type": "code",
   "execution_count": 6,
   "metadata": {
    "collapsed": false
   },
   "outputs": [
    {
     "data": {
      "text/plain": [
       "\u001b[36mdimension\u001b[39m: \u001b[32mInt\u001b[39m = \u001b[32m9\u001b[39m\n",
       "\u001b[36mstream\u001b[39m: \u001b[32mstreams\u001b[39m.\u001b[32mimpl\u001b[39m.\u001b[32mExplicitSimplexStream\u001b[39m = edu.stanford.math.plex4.streams.impl.ExplicitSimplexStream@10bd6d91\n",
       "\u001b[36mres5_4\u001b[39m: \u001b[32mBoolean\u001b[39m = \u001b[32mtrue\u001b[39m\n",
       "\u001b[36mpersistence9\u001b[39m: \u001b[32mhomology\u001b[39m.\u001b[32minterfaces\u001b[39m.\u001b[32mAbstractPersistenceAlgorithm\u001b[39m[\u001b[32mhomology\u001b[39m.\u001b[32mchain_basis\u001b[39m.\u001b[32mSimplex\u001b[39m] = edu.stanford.math.plex4.autogen.homology.IntAbsoluteHomology@4adc7e6e"
      ]
     },
     "execution_count": 6,
     "metadata": {},
     "output_type": "execute_result"
    }
   ],
   "source": [
    "val dimension = 9\n",
    "val stream = Plex4.createExplicitSimplexStream()\n",
    "stream.addElement(0 to (dimension + 1) toArray)\n",
    "stream.ensureAllFaces()\n",
    "stream.removeElementIfPresent(0 to (dimension + 1) toArray)\n",
    "stream.finalizeStream()\n",
    "\n",
    "val persistence9 = Plex4.getModularSimplicialAlgorithm(dimension + 1, 2)"
   ]
  },
  {
   "cell_type": "code",
   "execution_count": 7,
   "metadata": {
    "collapsed": false
   },
   "outputs": [
    {
     "data": {
      "text/plain": [
       "\u001b[36mintervals9\u001b[39m: \u001b[32mBarcodeCollection\u001b[39m[\u001b[32mjava\u001b[39m.\u001b[32mlang\u001b[39m.\u001b[32mDouble\u001b[39m] = Dimension: 0\n",
       "[0.0, infinity)\n"
      ]
     },
     "execution_count": 7,
     "metadata": {},
     "output_type": "execute_result"
    }
   ],
   "source": [
    "val intervals9 = persistence.computeIntervals(stream)"
   ]
  },
  {
   "cell_type": "markdown",
   "metadata": {},
   "source": [
    "# House"
   ]
  },
  {
   "cell_type": "markdown",
   "metadata": {},
   "source": [
    "### Explicit stream"
   ]
  },
  {
   "cell_type": "code",
   "execution_count": 8,
   "metadata": {
    "collapsed": false
   },
   "outputs": [
    {
     "data": {
      "text/plain": [
       "\u001b[36mhouseStream\u001b[39m: \u001b[32mstreams\u001b[39m.\u001b[32mimpl\u001b[39m.\u001b[32mExplicitSimplexStream\u001b[39m = edu.stanford.math.plex4.streams.impl.ExplicitSimplexStream@477eadaf"
      ]
     },
     "execution_count": 8,
     "metadata": {},
     "output_type": "execute_result"
    }
   ],
   "source": [
    "val houseStream = Plex4.createExplicitSimplexStream();\n",
    "houseStream.addVertex(1, 0);\n",
    "houseStream.addVertex(2, 0);\n",
    "houseStream.addVertex(3, 0);\n",
    "houseStream.addVertex(4, 0);\n",
    "houseStream.addVertex(5, 1);\n",
    "houseStream.addElement(Array(1, 2), 0);\n",
    "houseStream.addElement(Array(2,3), 0);\n",
    "houseStream.addElement(Array(3, 4), 0);\n",
    "houseStream.addElement(Array(4, 1), 0);\n",
    "houseStream.addElement(Array(3, 5), 2);\n",
    "houseStream.addElement(Array(4, 5), 3);\n",
    "houseStream.addElement(Array(3, 4, 5), 7);\n",
    "houseStream.finalizeStream()"
   ]
  },
  {
   "cell_type": "code",
   "execution_count": 9,
   "metadata": {
    "collapsed": false
   },
   "outputs": [
    {
     "data": {
      "text/plain": [
       "\u001b[36mintervals\u001b[39m: \u001b[32mBarcodeCollection\u001b[39m[\u001b[32mjava\u001b[39m.\u001b[32mlang\u001b[39m.\u001b[32mDouble\u001b[39m] = Dimension: 0\n",
       "[1.0, 2.0)\n",
       "[0.0, infinity)\n",
       "Dimension: 1\n",
       "[3.0, 7.0)\n",
       "[0.0, infinity)\n",
       "\n",
       "\u001b[36mactualIntervals\u001b[39m: \u001b[32mList\u001b[39m[\u001b[32mjava\u001b[39m.\u001b[32mutil\u001b[39m.\u001b[32mList\u001b[39m[\u001b[32mInterval\u001b[39m[\u001b[32mjava\u001b[39m.\u001b[32mlang\u001b[39m.\u001b[32mDouble\u001b[39m]]] = \u001b[33mList\u001b[39m([[1.0, 2.0), [0.0, infinity)], [[3.0, 7.0), [0.0, infinity)])\n",
       "\u001b[36mres8_2\u001b[39m: \u001b[32mInt\u001b[39m = \u001b[32m2\u001b[39m"
      ]
     },
     "execution_count": 9,
     "metadata": {},
     "output_type": "execute_result"
    }
   ],
   "source": [
    "val intervals = persistence.computeIntervals(houseStream)\n",
    "val actualIntervals = intervals.getIntervalIterator.asScala.map(_.getValue).toList\n",
    "actualIntervals.length"
   ]
  },
  {
   "cell_type": "code",
   "execution_count": 10,
   "metadata": {
    "collapsed": false
   },
   "outputs": [
    {
     "data": {
      "text/plain": [
       "\u001b[36mintervalsDim0\u001b[39m: \u001b[32mArray\u001b[39m[\u001b[32mArray\u001b[39m[\u001b[32mDouble\u001b[39m]] = \u001b[33mArray\u001b[39m(\u001b[33mArray\u001b[39m(\u001b[32m0.0\u001b[39m, \u001b[32mInfinity\u001b[39m), \u001b[33mArray\u001b[39m(\u001b[32m3.0\u001b[39m, \u001b[32m7.0\u001b[39m))"
      ]
     },
     "execution_count": 10,
     "metadata": {},
     "output_type": "execute_result"
    }
   ],
   "source": [
    "val intervalsDim0 = BarcodeUtility.getEndpoints(intervals, 1, false) "
   ]
  },
  {
   "cell_type": "markdown",
   "metadata": {
    "collapsed": true
   },
   "source": [
    "### Vietoris-Rips from point cloud"
   ]
  },
  {
   "cell_type": "code",
   "execution_count": 11,
   "metadata": {
    "collapsed": false
   },
   "outputs": [
    {
     "data": {
      "text/plain": [
       "\u001b[36mpointCloud\u001b[39m: \u001b[32mArray\u001b[39m[\u001b[32mArray\u001b[39m[\u001b[32mDouble\u001b[39m]] = \u001b[33mArray\u001b[39m(\n",
       "  \u001b[33mArray\u001b[39m(\u001b[32m-1.0\u001b[39m, \u001b[32m0.0\u001b[39m),\n",
       "  \u001b[33mArray\u001b[39m(\u001b[32m1.0\u001b[39m, \u001b[32m0.0\u001b[39m),\n",
       "  \u001b[33mArray\u001b[39m(\u001b[32m1.0\u001b[39m, \u001b[32m2.0\u001b[39m),\n",
       "  \u001b[33mArray\u001b[39m(\u001b[32m-1.0\u001b[39m, \u001b[32m2.0\u001b[39m),\n",
       "  \u001b[33mArray\u001b[39m(\u001b[32m0.0\u001b[39m, \u001b[32m3.0\u001b[39m)\n",
       ")\n",
       "\u001b[36mhouseMetricSpace\u001b[39m: \u001b[32mmetric\u001b[39m.\u001b[32mimpl\u001b[39m.\u001b[32mEuclideanMetricSpace\u001b[39m = edu.stanford.math.plex4.metric.impl.EuclideanMetricSpace@13457455\n",
       "\u001b[36mmaxDimension\u001b[39m: \u001b[32mInt\u001b[39m = \u001b[32m3\u001b[39m\n",
       "\u001b[36mmaxFiltrationValue\u001b[39m: \u001b[32mDouble\u001b[39m = \u001b[32m4.0\u001b[39m\n",
       "\u001b[36mnumDivisions\u001b[39m: \u001b[32mInt\u001b[39m = \u001b[32m100\u001b[39m\n",
       "\u001b[36mvietorisRipsStream\u001b[39m: \u001b[32mstreams\u001b[39m.\u001b[32mimpl\u001b[39m.\u001b[32mVietorisRipsStream\u001b[39m[\u001b[32mArray\u001b[39m[\u001b[32mDouble\u001b[39m]] = edu.stanford.math.plex4.streams.impl.VietorisRipsStream@55bfd18b\n",
       "\u001b[36mhouseIntervals\u001b[39m: \u001b[32mBarcodeCollection\u001b[39m[\u001b[32mjava\u001b[39m.\u001b[32mlang\u001b[39m.\u001b[32mDouble\u001b[39m] = Dimension: 0\n",
       "[0.0, 1.4000000000000001)\n",
       "[0.0, 1.4000000000000001)\n",
       "[0.0, 2.0)\n",
       "[0.0, 2.0)\n",
       "[0.0, infinity)\n",
       "Dimension: 1\n",
       "[2.0, 2.8000000000000003)\n"
      ]
     },
     "execution_count": 11,
     "metadata": {},
     "output_type": "execute_result"
    }
   ],
   "source": [
    "val pointCloud = examples.PointCloudExamples.getHouseExample()\n",
    "val houseMetricSpace= new metric.impl.EuclideanMetricSpace(pointCloud)\n",
    "\n",
    "val (maxDimension, maxFiltrationValue, numDivisions)= (3, 4.0, 100)\n",
    "\n",
    "val vietorisRipsStream = api.Plex4.createVietorisRipsStream(\n",
    "  houseMetricSpace,\n",
    "  maxDimension,\n",
    "  maxFiltrationValue,\n",
    "  numDivisions)\n",
    "\n",
    "val houseIntervals = persistence.computeIntervals(vietorisRipsStream)"
   ]
  },
  {
   "cell_type": "code",
   "execution_count": 12,
   "metadata": {
    "collapsed": false,
    "scrolled": true
   },
   "outputs": [
    {
     "data": {
      "image/png": "[encoded data removed]"
     },
     "metadata": {},
     "output_type": "display_data"
    },
    {
     "data": {
      "image/png": "[encoded data removed]"
     },
     "metadata": {},
     "output_type": "display_data"
    },
    {
     "data": {
      "text/plain": [
       "\u001b[36mhouseImgs\u001b[39m: \u001b[32mList\u001b[39m[(\u001b[32mInteger\u001b[39m, \u001b[32mjava\u001b[39m.\u001b[32mawt\u001b[39m.\u001b[32mimage\u001b[39m.\u001b[32mBufferedImage\u001b[39m)] = \u001b[33mList\u001b[39m(\n",
       "  (\n",
       "    0,\n",
       "    BufferedImage@373529d1: type = 5 ColorModel: #pixelBits = 24 numComponents = 3 color space = java.awt.color.ICC_ColorSpace@7c9fe476 transparency = 1 has alpha = false isAlphaPre = false ByteInterleavedRaster: width = 600 height = 88 #numDataElements 3 dataOff[0] = 2\n",
       "  ),\n",
       "  (\n",
       "    1,\n",
       "    BufferedImage@14f590fc: type = 5 ColorModel: #pixelBits = 24 numComponents = 3 color space = java.awt.color.ICC_ColorSpace@7c9fe476 transparency = 1 has alp\u001b[33m...\u001b[39m"
      ]
     },
     "execution_count": 12,
     "metadata": {},
     "output_type": "execute_result"
    }
   ],
   "source": [
    "val houseImgs = barcodeImages(houseIntervals, maxFiltrationValue)\n",
    "houseImgs.foreach { case (dim, img) => publish.png(img) }"
   ]
  },
  {
   "cell_type": "markdown",
   "metadata": {},
   "source": [
    "## Torus homology "
   ]
  },
  {
   "cell_type": "code",
   "execution_count": 37,
   "metadata": {
    "collapsed": false
   },
   "outputs": [
    {
     "data": {
      "text/plain": [
       "\u001b[36mres36\u001b[39m: \u001b[32mDenseMatrix\u001b[39m[\u001b[32mDouble\u001b[39m] = 1.1547374378934483   1.1775045005640583   0.9828032203685301   ... (400 total)\n",
       "0.4147384166499685   0.33257432909688106  0.45864791156413265  ...\n",
       "1.121985409397243    0.8420377333033382   0.7684663872066646   ...\n",
       "0.43496219081898635  0.7101838369733117   1.0282791752212084   ..."
      ]
     },
     "execution_count": 37,
     "metadata": {},
     "output_type": "execute_result"
    }
   ],
   "source": [
    "torusData.t"
   ]
  },
  {
   "cell_type": "code",
   "execution_count": 38,
   "metadata": {
    "collapsed": false
   },
   "outputs": [
    {
     "data": {
      "text/plain": [
       "\u001b[36mtorusData\u001b[39m: \u001b[32mDenseMatrix\u001b[39m[\u001b[32mDouble\u001b[39m] = 1.1547374378934483   0.4147384166499685   1.121985409397243     0.43496219081898635   \n",
       "1.1775045005640583   0.33257432909688106  0.8420377333033382    0.7101838369733117    \n",
       "0.9828032203685301   0.45864791156413265  0.7684663872066646    1.0282791752212084    \n",
       "1.1794004803299083   0.4267480584645309   0.3366053645355346    1.0393419695298924    \n",
       "1.109146327851506    0.4830043227003494   0.02937321303795829   1.112360889142937     \n",
       "0.9754416175450059   0.48398895685702026  -0.14883751363346595  1.1919390880060103    \n",
       "\u001b[33m...\u001b[39m\n",
       "\u001b[36mmaxDimension\u001b[39m: \u001b[32mInt\u001b[39m = \u001b[32m3\u001b[39m\n",
       "\u001b[36mmaxFiltrationValue\u001b[39m: \u001b[32mDouble\u001b[39m = \u001b[32m0.9\u001b[39m\n",
       "\u001b[36mnumDivisions\u001b[39m: \u001b[32mInt\u001b[39m = \u001b[32m100\u001b[39m\n",
       "\u001b[36mtorusStream\u001b[39m: \u001b[32mstreams\u001b[39m.\u001b[32mimpl\u001b[39m.\u001b[32mVietorisRipsStream\u001b[39m[\u001b[32mArray\u001b[39m[\u001b[32mDouble\u001b[39m]] = edu.stanford.math.plex4.streams.impl.VietorisRipsStream@16c091bf\n",
       "\u001b[36mtorusIntervals\u001b[39m: \u001b[32mBarcodeCollection\u001b[39m[\u001b[32mjava\u001b[39m.\u001b[32mlang\u001b[39m.\u001b[32mDouble\u001b[39m] = Dimension: 0\n",
       "[0.0, 0.099)\n",
       "[0.0, 0.10800000000000001)\n",
       "[0.0, 0.10800000000000001)\n",
       "[0.0, 0.11700000000000002)\n",
       "[0.0, 0.11700000000000002)\n",
       "[0.0, 0.14400000000000002)\n",
       "[0.0, 0.14400000000000002)\n",
       "[0.0, 0.15300000000000002)\n",
       "[0.0, 0.15300000000000002)\n",
       "[0.0, 0.15300000000000002)\n",
       "[0.0, 0.16200000000000003)\n",
       "\u001b[33m...\u001b[39m"
      ]
     },
     "execution_count": 38,
     "metadata": {},
     "output_type": "execute_result"
    }
   ],
   "source": [
    "val torusData = csvread(new File(datadir + \"pointsTorusGrid.csv\"))\n",
    "\n",
    "val (maxDimension, maxFiltrationValue, numDivisions) = (3, 0.9, 100)\n",
    "\n",
    "val torusStream = Plex4.createVietorisRipsStream(JavaArrayOps.dmDToArray2(torusData), maxDimension, maxFiltrationValue, numDivisions)\n",
    "\n",
    "val torusIntervals = persistence.computeIntervals(torusStream)"
   ]
  },
  {
   "cell_type": "code",
   "execution_count": 39,
   "metadata": {
    "collapsed": false
   },
   "outputs": [
    {
     "name": "stdout",
     "output_type": "stream",
     "text": [
      "TorusStream for\n",
      "maxFiltrationValue = 0.9\n",
      "has 82479 simplices\n"
     ]
    }
   ],
   "source": [
    "println(Seq(\n",
    "  \"TorusStream for\",\n",
    "  s\"maxFiltrationValue = ${maxFiltrationValue}\",\n",
    "  s\"has ${torusStream.getSize()} simplices\").mkString(\"\\n\"))"
   ]
  },
  {
   "cell_type": "code",
   "execution_count": 40,
   "metadata": {
    "collapsed": false
   },
   "outputs": [
    {
     "data": {
      "image/png": "[encoded data removed]"
     },
     "metadata": {},
     "output_type": "display_data"
    },
    {
     "data": {
      "image/png": "[encoded data removed]"
     },
     "metadata": {},
     "output_type": "display_data"
    },
    {
     "data": {
      "image/png": "[encoded data removed]"
     },
     "metadata": {},
     "output_type": "display_data"
    }
   ],
   "source": [
    "barcodeImages(torusIntervals, maxFiltrationValue) foreach { case (dim, img) => publish.png(img) }"
   ]
  },
  {
   "cell_type": "markdown",
   "metadata": {},
   "source": [
    "## Iris homology "
   ]
  },
  {
   "cell_type": "code",
   "execution_count": 50,
   "metadata": {
    "collapsed": false
   },
   "outputs": [
    {
     "data": {
      "text/plain": [
       "\u001b[36mirisAllData\u001b[39m: \u001b[32mDenseMatrix\u001b[39m[\u001b[32mDouble\u001b[39m] = 5.1  3.5  1.4  0.2  1.0  \n",
       "4.9  3.0  1.4  0.2  1.0  \n",
       "4.7  3.2  1.3  0.2  1.0  \n",
       "4.6  3.1  1.5  0.2  1.0  \n",
       "5.0  3.6  1.4  0.2  1.0  \n",
       "5.4  3.9  1.7  0.4  1.0  \n",
       "4.6  3.4  1.4  0.3  1.0  \n",
       "5.0  3.4  1.5  0.2  1.0  \n",
       "4.4  2.9  1.4  0.2  1.0  \n",
       "4.9  3.1  1.5  0.1  1.0  \n",
       "5.4  3.7  1.5  0.2  1.0  \n",
       "4.8  3.4  1.6  0.2  1.0  \n",
       "\u001b[33m...\u001b[39m\n",
       "\u001b[36mirisData\u001b[39m: \u001b[32mDenseMatrix\u001b[39m[\u001b[32mDouble\u001b[39m] = 3.5  1.4  0.2  1.0  \n",
       "3.0  1.4  0.2  1.0  \n",
       "3.2  1.3  0.2  1.0  \n",
       "3.1  1.5  0.2  1.0  \n",
       "3.6  1.4  0.2  1.0  \n",
       "3.9  1.7  0.4  1.0  \n",
       "3.4  1.4  0.3  1.0  \n",
       "3.4  1.5  0.2  1.0  \n",
       "2.9  1.4  0.2  1.0  \n",
       "3.1  1.5  0.1  1.0  \n",
       "3.7  1.5  0.2  1.0  \n",
       "3.4  1.6  0.2  1.0  \n",
       "\u001b[33m...\u001b[39m\n",
       "\u001b[36mirisTarget\u001b[39m: \u001b[32mDenseVector\u001b[39m[\u001b[32mInt\u001b[39m] = DenseVector(1, 1, 1, 1, 1, 1, 1, 1, 1, 1, 1, 1, 1, 1, 1, 1, 1, 1, 1, 1, 1, 1, 1, 1, 1, 1, 1, 1, 1, 1, 1, 1, 1, 1, 1, 1, 1, 1, 1, 1, 1, 1, 1, 1, 1, 1, 1, 1, 1, 1, 2, 2, 2, 2, 2, 2, 2, 2, 2, 2, 2, 2, 2, 2, 2, 2, 2, 2, 2, 2, 2, 2, 2, 2, 2, 2, 2, 2, 2, 2, 2, 2, 2, 2, 2, 2, 2, 2, 2, 2, 2, 2, 2, 2, 2, 2, 2, 2, 2, 2, 3, 3, 3, 3, 3, 3, 3, 3, 3, 3, 3, 3, 3, 3, 3, 3, 3, 3, 3, 3, 3, 3, 3, 3, 3, 3, 3, 3, 3, 3, 3, 3, 3, 3, 3, 3, 3, 3, 3, 3, 3, 3, 3, 3, 3, 3, 3, 3, 3, 3)\n",
       "\u001b[36mirisDist\u001b[39m: \u001b[32mDenseMatrix\u001b[39m[\u001b[32mDouble\u001b[39m] = 0.0                   0.25                  ... (150 total)\n",
       "0.25                  0.0                   ...\n",
       "0.09999999999999787   0.04999999999999716   ...\n",
       "0.1700000000000017    0.019999999999999574  ...\n",
       "0.010000000000001563  0.35999999999999943   ...\n",
       "0.28999999999999737   0.9399999999999995    ...\n",
       "0.01999999999999602   0.16999999999999815   ...\n",
       "0.019999999999997797  0.16999999999999993   ...\n",
       "0.35999999999999943   0.010000000000001563  ...\n",
       "0.1800000000000015    0.02999999999999936   ...\n",
       "0.049999999999998934  0.4999999999999982    ...\n",
       "0.04999999999999716   0.1999999999999993    ...\n",
       "\u001b[33m...\u001b[39m\n",
       "\u001b[36mirisArray\u001b[39m: \u001b[32mArray\u001b[39m[\u001b[32mArray\u001b[39m[\u001b[32mDouble\u001b[39m]] = \u001b[33mArray\u001b[39m(\n",
       "  \u001b[33mArray\u001b[39m(\n",
       "    \u001b[32m0.0\u001b[39m,\n",
       "    \u001b[32m0.25\u001b[39m,\n",
       "    \u001b[32m0.09999999999999787\u001b[39m,\n",
       "    \u001b[32m0.1700000000000017\u001b[39m,\n",
       "    \u001b[32m0.010000000000001563\u001b[39m,\n",
       "    \u001b[32m0.28999999999999915\u001b[39m,\n",
       "    \u001b[32m0.01999999999999602\u001b[39m,\n",
       "    \u001b[32m0.019999999999997797\u001b[39m,\n",
       "    \u001b[32m0.35999999999999943\u001b[39m,\n",
       "    \u001b[32m0.1800000000000015\u001b[39m,\n",
       "\u001b[33m...\u001b[39m"
      ]
     },
     "execution_count": 50,
     "metadata": {},
     "output_type": "execute_result"
    }
   ],
   "source": [
    "val irisAllData = csvread(new File(datadir + \"iris.csv\"))\n",
    "\n",
    "val irisData = irisAllData(::, Range(1,5))\n",
    "val irisTarget = irisAllData(::, 4).map(_.toInt)\n",
    "\n",
    "val irisDist = dist(irisData, irisData)\n",
    "val irisArray = JavaArrayOps.dmDToArray2(irisDist)"
   ]
  },
  {
   "cell_type": "code",
   "execution_count": null,
   "metadata": {
    "collapsed": false
   },
   "outputs": [],
   "source": [
    "val (maxDimension, maxFiltrationValue, numDivisions) = (4, irisDist.max , 50)\n",
    "val irisStream = Plex4.createVietorisRipsStream(irisArray, maxDimension, maxFiltrationValue, numDivisions)\n"
   ]
  },
  {
   "cell_type": "code",
   "execution_count": null,
   "metadata": {
    "collapsed": false
   },
   "outputs": [],
   "source": [
    "println(Seq(\n",
    "  \"Iris Stream for\",\n",
    "  s\"maxFiltrationValue = ${maxFiltrationValue}\",\n",
    "  s\"has ${irisStream.asScala.size.toString} simplices\").mkString(\"\\n\"))"
   ]
  },
  {
   "cell_type": "code",
   "execution_count": null,
   "metadata": {
    "collapsed": false
   },
   "outputs": [],
   "source": [
    "val intervals = persistence.computeIntervals(irisStream)\n",
    "val imgs = barcodeImages(intervals, maxFiltrationValue) "
   ]
  },
  {
   "cell_type": "code",
   "execution_count": 66,
   "metadata": {
    "collapsed": false
   },
   "outputs": [
    {
     "data": {
      "image/png": "[encoded data removed]"
     },
     "metadata": {},
     "output_type": "display_data"
    },
    {
     "data": {
      "image/png": "[encoded data removed]"
     },
     "metadata": {},
     "output_type": "display_data"
    }
   ],
   "source": [
    "imgs.foreach { case (dim, img) => publish.png(img) }"
   ]
  },
  {
   "cell_type": "code",
   "execution_count": null,
   "metadata": {
    "collapsed": true
   },
   "outputs": [],
   "source": []
  }
 ],
 "metadata": {
  "anaconda-cloud": {},
  "hide_input": false,
  "kernelspec": {
   "display_name": "Scala",
   "language": "scala",
   "name": "scala"
  },
  "language_info": {
   "codemirror_mode": "text/x-scala",
   "file_extension": ".scala",
   "mimetype": "text/x-scala",
   "name": "scala211",
   "nbconvert_exporter": "scala",
   "pygments_lexer": "scala",
   "version": "2.11.8"
  }
 },
 "nbformat": 4,
 "nbformat_minor": 0
}
